{
 "cells": [
  {
   "cell_type": "markdown",
   "id": "257208e1-aca6-47f8-963d-b8d2c1997046",
   "metadata": {},
   "source": [
    "Question 1\n",
    "Level 1\n",
    "\n",
    "Task:\n",
    "Develop a program to find all numbers between 2000 and 3200 (inclusive) that are divisible by 7 but not multiples of 5. Display these numbers as a single line of output, separated by commas."
   ]
  },
  {
   "cell_type": "code",
   "execution_count": 420,
   "id": "ac998503-ae44-43ad-bb02-d6f790598944",
   "metadata": {},
   "outputs": [
    {
     "name": "stdout",
     "output_type": "stream",
     "text": [
      "2002,2009,2016,2023,2037,2044,2051,2058,2072,2079,2086,2093,2107,2114,2121,2128,2142,2149,2156,2163,2177,2184,2191,2198,2212,2219,2226,2233,2247,2254,2261,2268,2282,2289,2296,2303,2317,2324,2331,2338,2352,2359,2366,2373,2387,2394,2401,2408,2422,2429,2436,2443,2457,2464,2471,2478,2492,2499,2506,2513,2527,2534,2541,2548,2562,2569,2576,2583,2597,2604,2611,2618,2632,2639,2646,2653,2667,2674,2681,2688,2702,2709,2716,2723,2737,2744,2751,2758,2772,2779,2786,2793,2807,2814,2821,2828,2842,2849,2856,2863,2877,2884,2891,2898,2912,2919,2926,2933,2947,2954,2961,2968,2982,2989,2996,3003,3017,3024,3031,3038,3052,3059,3066,3073,3087,3094,3101,3108,3122,3129,3136,3143,3157,3164,3171,3178,3192,3199\n"
     ]
    }
   ],
   "source": [
    "number = range(2000, 3201)\n",
    "full= []\n",
    "for i in number:\n",
    "    if int(i) % 7 ==0 and int(i) % 5 !=0:\n",
    "        full.append(str(i))\n",
    "print(\",\".join(full))"
   ]
  },
  {
   "cell_type": "markdown",
   "id": "5a04c5a4-3f67-4e42-b96d-842591220d17",
   "metadata": {},
   "source": [
    "Question 2\n",
    "Level 1\n",
    "\n",
    "Task:\n",
    "Create a function that computes the factorial of a specified integer. Display the result in a single line of output. For example, if the input is:\n",
    "8\n",
    "Then, the output should be:\n",
    "40320"
   ]
  },
  {
   "cell_type": "code",
   "execution_count": 122,
   "id": "e60b3da2-8bc6-43fb-8c15-4f5095003b60",
   "metadata": {},
   "outputs": [
    {
     "data": {
      "text/plain": [
       "120"
      ]
     },
     "execution_count": 122,
     "metadata": {},
     "output_type": "execute_result"
    }
   ],
   "source": [
    "def factorial(n):\n",
    "   \n",
    "    result = 1\n",
    "    for i in range(1, n+1):\n",
    "        result *= i\n",
    "    return result\n",
    "factorial(5)"
   ]
  },
  {
   "cell_type": "markdown",
   "id": "a2c684f6-372a-418a-9792-0175cf24fcf2",
   "metadata": {},
   "source": [
    "Question 3\n",
    "Level 1\n",
    "\n",
    "Task:\n",
    "Given an integer n, generate a dictionary with entries (i, i*i) for all integers from 1 to n (inclusive). Print the resulting dictionary. For example, if the input is:\n",
    "8\n",
    "Then, the output should be:\n",
    "{1: 1, 2: 4, 3: 9, 4: 16, 5: 25, 6: 36, 7: 49, 8: 64}"
   ]
  },
  {
   "cell_type": "code",
   "execution_count": 170,
   "id": "0f0ab21a-f0d9-4ba2-8465-094e6087e039",
   "metadata": {},
   "outputs": [
    {
     "name": "stdout",
     "output_type": "stream",
     "text": [
      "{1: 1, 2: 4, 3: 9, 4: 16, 5: 25, 6: 36, 7: 49, 8: 64}\n"
     ]
    }
   ],
   "source": [
    "def dectionary(n):\n",
    "    my_dic = {}\n",
    "    for i in range(1, n+1):\n",
    "        a = i*i\n",
    "        my_dic.setdefault(i,a)\n",
    "    print(my_dic)\n",
    "  \n",
    "dectionary(8)"
   ]
  },
  {
   "cell_type": "markdown",
   "id": "5495ac43-0a88-4d30-b395-77853c05c058",
   "metadata": {},
   "source": [
    "Question 4\n",
    "Level 1\n",
    "\n",
    "Task:\n",
    "Create a program that reads a series of comma-separated numbers from the console, then generates and prints both a list and a tuple containing those numbers. For example, if the input is:\n",
    "34,67,55,33,12,98\n",
    "The output should be:\n",
    "['34', '67', '55', '33', '12', '98']\n",
    "('34', '67', '55', '33', '12', '98')\n",
    "\n"
   ]
  },
  {
   "cell_type": "code",
   "execution_count": 182,
   "id": "e121b578-8d20-4569-a3c8-c9fa1db44ff2",
   "metadata": {},
   "outputs": [
    {
     "name": "stdin",
     "output_type": "stream",
     "text": [
      "Enter list of number 34,67,55,33,12,98\n"
     ]
    },
    {
     "name": "stdout",
     "output_type": "stream",
     "text": [
      "['34', '67', '55', '33', '12', '98']\n",
      "('34', '67', '55', '33', '12', '98')\n"
     ]
    }
   ],
   "source": [
    "def comma_separated():\n",
    "    listt = input(\"Enter list of number\")\n",
    "    list1=listt.split(\",\")\n",
    "    print(list1)\n",
    "    print(tuple(list1))\n",
    "comma_separated()"
   ]
  },
  {
   "cell_type": "markdown",
   "id": "8260a0fc-d2b0-4879-948e-210fa4cf0c0e",
   "metadata": {},
   "source": [
    "Question 5\n",
    "Level 1\n",
    "\n",
    "Task:\n",
    "Create a class that has two methods:\n",
    "\n",
    "getString: To accept a string input from the console.\n",
    "\n",
    "printString: To display the string in uppercase.\n",
    "Include a simple test function to demonstrate the class methods.\n",
    "\n"
   ]
  },
  {
   "cell_type": "code",
   "execution_count": 188,
   "id": "4afff08f-60f6-4827-aede-511ffadc71c0",
   "metadata": {},
   "outputs": [
    {
     "name": "stdin",
     "output_type": "stream",
     "text": [
      "Enter string ramadhani\n"
     ]
    },
    {
     "name": "stdout",
     "output_type": "stream",
     "text": [
      "RAMADHANI\n"
     ]
    }
   ],
   "source": [
    "def class_method():\n",
    "    getString = input(\"Enter string\")\n",
    "    printString = print(getString.upper())\n",
    "class_method() "
   ]
  },
  {
   "cell_type": "markdown",
   "id": "cb1a9be3-cdaf-4f51-8bb7-1fafa9e92a0c",
   "metadata": {},
   "source": [
    "Question 6\n",
    "Level 2\n",
    "\n",
    "Task:\n",
    "Write a program that calculates and prints values based on the formula:\n",
    "[ Q = \\sqrt{\\frac{2 \\times C \\times D}{H}} ]\n",
    "Here, C and H are fixed constants with values 50 and 30, respectively. D is a variable whose values are input to the program as a comma-separated sequence. For example, if the input is:\n",
    "100,150,180\n",
    "Then, the output should be:\n",
    "18,22,24"
   ]
  },
  {
   "cell_type": "code",
   "execution_count": 438,
   "id": "95d7e432-2230-4e8e-a927-f8416a11ecce",
   "metadata": {},
   "outputs": [
    {
     "name": "stdin",
     "output_type": "stream",
     "text": [
      " 100,150,180\n"
     ]
    },
    {
     "name": "stdout",
     "output_type": "stream",
     "text": [
      "18,22,24\n"
     ]
    }
   ],
   "source": [
    "import math\n",
    "def calculate_print():\n",
    "    full = []\n",
    "    D = [y for y in input().split(\",\")]\n",
    "    C = 50\n",
    "    H = 30\n",
    "    for y in D:\n",
    "        Q = int(math.sqrt((2*C*int(y))/H))\n",
    "        full.append(str(Q))\n",
    "    print(\",\".join(full))\n",
    "calculate_print()"
   ]
  },
  {
   "cell_type": "markdown",
   "id": "6155af21-9690-462f-a2de-3cc95e1a0d43",
   "metadata": {},
   "source": [
    "Question 7\n",
    "Level 2\n",
    "\n",
    "Task:\n",
    "Write a program that accepts two numbers, X and Y, as input and generates a 2-dimensional list. The value at the i-th row and j-th column should be the product of i and j. For example, if the input is:\n",
    "3,5\n",
    "The output should be:\n",
    "[[0, 0, 0, 0, 0], [0, 1, 2, 3, 4], [0, 2, 4, 6, 8]]"
   ]
  },
  {
   "cell_type": "code",
   "execution_count": 195,
   "id": "5991cce1-0f96-41aa-ac99-a82a18cdcc94",
   "metadata": {},
   "outputs": [
    {
     "name": "stdin",
     "output_type": "stream",
     "text": [
      "insert row \n",
      ":  3\n",
      "insert col \n",
      ":  5\n"
     ]
    },
    {
     "name": "stdout",
     "output_type": "stream",
     "text": [
      "[[0, 0, 0, 0, 0], [0, 1, 2, 3, 4], [0, 2, 4, 6, 8]]\n"
     ]
    }
   ],
   "source": [
    "X= int(input(\"insert row \\n: \"))\n",
    "Y = int(input(\"insert col \\n: \"))\n",
    " \n",
    "def d_array(r,c):\n",
    "   array = [[i*j for j in range(c)] for i in range(r)]\n",
    "   return array\n",
    " \n",
    "print(d_array(row,col))"
   ]
  },
  {
   "cell_type": "markdown",
   "id": "e3681ed4-5a28-49e8-9229-f400e867fc89",
   "metadata": {},
   "source": [
    "Question 8\n",
    "Level 2\n",
    "\n",
    "Task:\n",
    "Write a program that accepts a comma-separated list of words, sorts them alphabetically, and then prints them in a single line, separated by commas. For example, if the input is:\n",
    "without,hello,bag,world\n",
    "The output should be:\n",
    "bag,hello,without,world"
   ]
  },
  {
   "cell_type": "code",
   "execution_count": 321,
   "id": "e6c069a7-2768-454a-bd97-784d85fdf54d",
   "metadata": {},
   "outputs": [
    {
     "name": "stdin",
     "output_type": "stream",
     "text": [
      "ENTER LIST without,hello,bag,world\n"
     ]
    },
    {
     "name": "stdout",
     "output_type": "stream",
     "text": [
      "bag,hello,without,world\n"
     ]
    }
   ],
   "source": [
    "def comma_separated():\n",
    "   \n",
    "    list = input(\"ENTER LIST\")\n",
    "    my_list = list.split(\",\") \n",
    "    my_list.sort()\n",
    "    print(\",\".join(my_list))\n",
    "comma_separated()    "
   ]
  },
  {
   "cell_type": "markdown",
   "id": "5e44cbb4-f678-4320-8039-cdaec9e94e90",
   "metadata": {},
   "source": [
    "Question 9\n",
    "Level 2\n",
    "\n",
    "Task:\n",
    "Create a program that reads multiple lines of input and outputs each line with all characters converted to uppercase. For example, if the input is:\n",
    "Hello world\n",
    "Practice makes perfect\n",
    "The output should be:\n",
    "HELLO WORLD\n",
    "PRACTICE MAKES PERFECT"
   ]
  },
  {
   "cell_type": "code",
   "execution_count": 241,
   "id": "f5090184-a630-4ede-9552-09cc8d02b023",
   "metadata": {},
   "outputs": [
    {
     "name": "stdin",
     "output_type": "stream",
     "text": [
      " Hello world Practice makes perfect\n"
     ]
    },
    {
     "name": "stdout",
     "output_type": "stream",
     "text": [
      "HELLO WORLD PRACTICE MAKES PERFECT\n"
     ]
    },
    {
     "name": "stdin",
     "output_type": "stream",
     "text": [
      " \n"
     ]
    }
   ],
   "source": [
    "my_list2 = []\n",
    "while True:\n",
    "    my_string = input()\n",
    "    if my_string :\n",
    "        my_list2 = my_string.upper()\n",
    "        print(my_list2)\n",
    "    else:\n",
    "        break"
   ]
  },
  {
   "cell_type": "code",
   "execution_count": 243,
   "id": "7dc7a74c-cc06-489f-b454-a492c00dea76",
   "metadata": {},
   "outputs": [
    {
     "name": "stdout",
     "output_type": "stream",
     "text": [
      "Enter text (type 'STOP' to end):\n"
     ]
    },
    {
     "name": "stdin",
     "output_type": "stream",
     "text": [
      "  Hello world\n",
      " Practice makes perfect\n",
      " \n",
      " STOP\n"
     ]
    },
    {
     "name": "stdout",
     "output_type": "stream",
     "text": [
      " HELLO WORLD\n",
      "PRACTICE MAKES PERFECT\n",
      "\n"
     ]
    }
   ],
   "source": [
    "\n",
    "lines = []\n",
    "print(\"Enter text (type 'STOP' to end):\")\n",
    "while True:\n",
    "    line = input()\n",
    "    if line == \"STOP\":\n",
    "        break\n",
    "    lines.append(line)\n",
    "\n",
    "for line in lines:\n",
    "    print(line.upper())\n"
   ]
  },
  {
   "cell_type": "markdown",
   "id": "172aea53-ccc9-4c00-b2f0-7cce4aa43abc",
   "metadata": {},
   "source": [
    "Question 10\n",
    "Level 2\n",
    "\n",
    "Task:\n",
    "Write a program that reads a sequence of whitespace-separated words, removes all duplicate words, sorts them alphanumerically, and then prints the resulting words. For example, if the input is:\n",
    "hello world and practice makes perfect and hello world again\n",
    "The output should be:\n",
    "again and hello makes perfect practice world"
   ]
  },
  {
   "cell_type": "code",
   "execution_count": 283,
   "id": "ab9b044b-9e18-4e3b-944d-8420db8bf18e",
   "metadata": {},
   "outputs": [
    {
     "name": "stdin",
     "output_type": "stream",
     "text": [
      "Enter the strings hello world and practice makes perfect and hello world again\n"
     ]
    },
    {
     "name": "stdout",
     "output_type": "stream",
     "text": [
      "again and hello makes perfect practice world\n"
     ]
    }
   ],
   "source": [
    "def whitespace_separated_words():\n",
    "    my_list = input(\"Enter the strings\")\n",
    "    my_list1 = my_list.split()\n",
    "    my_list2 = list(dict.fromkeys(my_list1))\n",
    "    my_list2.sort()\n",
    "    print(\" \".join(my_list2))\n",
    "whitespace_separated_words()"
   ]
  },
  {
   "cell_type": "markdown",
   "id": "7d79280c-1d54-4cbb-844f-b6a9b3af9bf7",
   "metadata": {},
   "source": [
    "Question 11\n",
    "Level 2\n",
    "\n",
    "Task:\n",
    "Create a program that takes a sequence of 4-digit binary numbers, checks which ones are divisible by 5, and prints them as a comma-separated sequence. For example, if the input is:\n",
    "0100,0011,1010,1001\n",
    "The output should be:\n",
    "1010\n",
    "Note: Assume the input is provided through the console."
   ]
  },
  {
   "cell_type": "code",
   "execution_count": 311,
   "id": "6e18f5b8-3fe5-4aaa-bb1b-a14981f87647",
   "metadata": {},
   "outputs": [
    {
     "name": "stdin",
     "output_type": "stream",
     "text": [
      " 0100,0011,1010,1001\n"
     ]
    },
    {
     "name": "stdout",
     "output_type": "stream",
     "text": [
      "1010\n"
     ]
    }
   ],
   "source": [
    "def binary_numbers():\n",
    "    seq = [x for x in input().split(\",\")]\n",
    "    summ=0\n",
    "    for my_seq in seq:\n",
    "        q=1\n",
    "        for my_x in my_seq:\n",
    "            summ=summ+int(my_x)*2**q\n",
    "            q=q+1\n",
    "        if summ % 5 == 0:\n",
    "            print(my_seq)\n",
    "        q=1\n",
    "        summ=0     \n",
    "binary_numbers()            "
   ]
  }
 ],
 "metadata": {
  "kernelspec": {
   "display_name": "Python 3 (ipykernel)",
   "language": "python",
   "name": "python3"
  },
  "language_info": {
   "codemirror_mode": {
    "name": "ipython",
    "version": 3
   },
   "file_extension": ".py",
   "mimetype": "text/x-python",
   "name": "python",
   "nbconvert_exporter": "python",
   "pygments_lexer": "ipython3",
   "version": "3.12.4"
  }
 },
 "nbformat": 4,
 "nbformat_minor": 5
}
