{
 "cells": [
  {
   "cell_type": "markdown",
   "id": "22408cbe-1da0-4d07-a996-d7df7c1e4684",
   "metadata": {},
   "source": [
    "## RAMADHANI FADHIL MOSHI"
   ]
  },
  {
   "cell_type": "markdown",
   "id": "bb62c706-2402-45d3-ac31-a97cf0febf5d",
   "metadata": {},
   "source": [
    "## PyPro: challenge 1"
   ]
  },
  {
   "cell_type": "markdown",
   "id": "b08758c8-b122-4321-a679-d8cd8619c522",
   "metadata": {},
   "source": [
    "#Create a function find_max() that accepts two numeric inputs and returns the greater value. Avoid using the built-in max() function."
   ]
  },
  {
   "cell_type": "code",
   "execution_count": 1,
   "id": "81c32352-433d-46c2-b777-aa6a003a3950",
   "metadata": {},
   "outputs": [
    {
     "name": "stdin",
     "output_type": "stream",
     "text": [
      "Enter first number 3\n",
      "Enter second number 4\n"
     ]
    },
    {
     "name": "stdout",
     "output_type": "stream",
     "text": [
      "4.0\n"
     ]
    }
   ],
   "source": [
    "def find_max():\n",
    "    x = float(input(\"Enter first number\"))\n",
    "    y =  float(input(\"Enter second number\"))\n",
    "    if x > y:\n",
    "        print(x)\n",
    "    else:\n",
    "        print(y)\n",
    "find_max()            "
   ]
  },
  {
   "cell_type": "markdown",
   "id": "fcfb197a-136e-440e-b375-f211e73931e6",
   "metadata": {},
   "source": [
    "Develop a function find_max_of_three() to find the maximum among three given numbers."
   ]
  },
  {
   "cell_type": "code",
   "execution_count": 3,
   "id": "2412e6b9-3c68-4ea8-afec-17c714eb8791",
   "metadata": {},
   "outputs": [
    {
     "name": "stdin",
     "output_type": "stream",
     "text": [
      "Enter first number 2\n",
      "Enter second number 6\n",
      "Enter second number 9\n"
     ]
    },
    {
     "name": "stdout",
     "output_type": "stream",
     "text": [
      "9.0\n"
     ]
    }
   ],
   "source": [
    "def  find_max_of_three():\n",
    "    \n",
    "    x = float(input(\"Enter first number\"))\n",
    "    y =  float(input(\"Enter second number\"))\n",
    "    z =  float(input(\"Enter second number\"))\n",
    "    \n",
    "    if x > y and x > z:\n",
    "        print(x)\n",
    "    elif y > x and y > z:\n",
    "          print(y)\n",
    "    elif z > x and z > x:\n",
    "          print(z)\n",
    "    else:\n",
    "        print(\"all number are equal\")\n",
    "\n",
    "find_max_of_three()"
   ]
  },
  {
   "cell_type": "markdown",
   "id": "691919bc-8ed1-41bb-9341-6d9bc52ba07c",
   "metadata": {},
   "source": [
    "Write a function to manually calculate the length of a given list or string without using len()."
   ]
  },
  {
   "cell_type": "code",
   "execution_count": 5,
   "id": "c7cf497d-44a6-4a06-9729-16ef0fe85b59",
   "metadata": {},
   "outputs": [
    {
     "name": "stdin",
     "output_type": "stream",
     "text": [
      "Enter list of number 2,2,5,6\n"
     ]
    },
    {
     "name": "stdout",
     "output_type": "stream",
     "text": [
      "4\n"
     ]
    }
   ],
   "source": [
    "def cul_list():\n",
    "    list1 = input(\"Enter list of number\") \n",
    "    list1 = list1.split(\",\")\n",
    "    sum = 0\n",
    "    if \",\" in list1:\n",
    "        for i in list1:\n",
    "            sum = sum + 1\n",
    "        print(sum)\n",
    "    else:\n",
    "       for i in list1:\n",
    "         sum = sum + 1\n",
    "    print(sum)   \n",
    "cul_list()"
   ]
  },
  {
   "cell_type": "code",
   "execution_count": 7,
   "id": "8dc80ac5-c4ad-4ddf-94c4-2444ba47158d",
   "metadata": {},
   "outputs": [
    {
     "data": {
      "text/plain": [
       "6"
      ]
     },
     "execution_count": 7,
     "metadata": {},
     "output_type": "execute_result"
    }
   ],
   "source": [
    "def calLength(Iter):\n",
    "    count = 0\n",
    "    for el in Iter:\n",
    "        count += 1\n",
    "    return count\n",
    "\n",
    "calLength(\"fadhil\")"
   ]
  },
  {
   "cell_type": "markdown",
   "id": "6c5adbe2-0940-4083-9fd1-ee09556122da",
   "metadata": {},
   "source": [
    "Implement a function that checks if a given character is a vowel (a, e, i, o, u)."
   ]
  },
  {
   "cell_type": "code",
   "execution_count": 9,
   "id": "35ba9be2-2406-4b10-afbd-72a4c513d0da",
   "metadata": {},
   "outputs": [
    {
     "name": "stdout",
     "output_type": "stream",
     "text": [
      "It's vowel\n"
     ]
    }
   ],
   "source": [
    "def vowel_check(charater):\n",
    "    list = [\"a\", \"e\", \"i\", \"o\", \"u\"]\n",
    "    if charater in  list:\n",
    "        \n",
    "        print(\"It's vowel\")\n",
    "\n",
    "vowel_check(\"a\")\n",
    "    \n",
    "    "
   ]
  },
  {
   "cell_type": "markdown",
   "id": "2902e46b-3101-45c2-aefc-d15bb80e454b",
   "metadata": {},
   "source": [
    "Write a function encode() that converts a string into “rövarspråket” (robber’s language) by doubling consonants and placing “o” in between, e.g., “hello” -> “hohelollolo”."
   ]
  },
  {
   "cell_type": "code",
   "execution_count": 63,
   "id": "2edc6147-4f5e-4a69-af48-240768b36093",
   "metadata": {},
   "outputs": [
    {
     "name": "stdout",
     "output_type": "stream",
     "text": [
      "lolololohoho\n"
     ]
    }
   ],
   "source": [
    "def encode(string):\n",
    "    return ''.join(char + 'o' + char if char.lower() not in 'aeiou ' else char for char in string)\n",
    "\n",
    "result = encode(\"loloho\")\n",
    "print(result)\n"
   ]
  },
  {
   "cell_type": "markdown",
   "id": "33078e98-55f0-4db9-b819-dbbf0222845b",
   "metadata": {},
   "source": [
    "Create sum_elements() and product_elements() functions to sum and multiply all elements in a list, respectively."
   ]
  },
  {
   "cell_type": "code",
   "execution_count": 11,
   "id": "52fb93f5-7979-4397-97fe-387a58a232ff",
   "metadata": {},
   "outputs": [
    {
     "name": "stdout",
     "output_type": "stream",
     "text": [
      "The sum of string  11\n",
      "The product of string  48\n"
     ]
    }
   ],
   "source": [
    "def  sum_elements(list):\n",
    "    \"\"\" function to sum all element in a list\"\"\"\n",
    "    sum = 0\n",
    "    for i in list:\n",
    "        sum +=i\n",
    "    print(\"The sum of string \",sum)\n",
    "\n",
    "\n",
    "def product_elements(list1):\n",
    "    \"\"\" function to multiply all element in a list\"\"\"\n",
    "    prod = 1\n",
    "    for i in list1:\n",
    "        prod *=i\n",
    "    print(\"The product of string \", prod)\n",
    "sum_elements([2,3,2,4]) \n",
    "product_elements([2,3,2,4])"
   ]
  },
  {
   "cell_type": "markdown",
   "id": "442f3516-98ed-4752-a1e3-a2090bc35314",
   "metadata": {},
   "source": [
    "Define a function reverse_string() to reverse the characters in a given string."
   ]
  },
  {
   "cell_type": "code",
   "execution_count": 13,
   "id": "04e130da-df95-4130-9bc9-021ee5f8cf54",
   "metadata": {},
   "outputs": [
    {
     "data": {
      "text/plain": [
       "'assohpamar'"
      ]
     },
     "execution_count": 13,
     "metadata": {},
     "output_type": "execute_result"
    }
   ],
   "source": [
    "def reverse_string(char): \n",
    "    return char[::-1]\n",
    "reverse_string(\"ramaphossa\")"
   ]
  },
  {
   "cell_type": "markdown",
   "id": "2f500afb-6b37-4e60-8775-bbd9feb7edc1",
   "metadata": {},
   "source": [
    "Implement check_palindrome() to verify if a string reads the same forwards and backwards, i.e. is a palindrome.\r\n",
    "\r\n"
   ]
  },
  {
   "cell_type": "code",
   "execution_count": 15,
   "id": "1afd92ee-2b2d-432e-8237-cdf566d7c157",
   "metadata": {},
   "outputs": [
    {
     "name": "stdout",
     "output_type": "stream",
     "text": [
      "True\n"
     ]
    }
   ],
   "source": [
    "def  check_palindrome(s):\n",
    "    if s == s[::-1]:\n",
    "        print(\"True\")\n",
    "    else:\n",
    "        print(\"False\")\n",
    "check_palindrome(\"madam\")"
   ]
  },
  {
   "cell_type": "markdown",
   "id": "71853111-4592-4efd-ad2e-0e1a0b611d64",
   "metadata": {},
   "source": [
    "Develop a function check_membership() to determine if a value exists within a list."
   ]
  },
  {
   "cell_type": "code",
   "execution_count": 27,
   "id": "a3c33e85-18f5-4972-9107-1e4cab62bf5e",
   "metadata": {},
   "outputs": [
    {
     "name": "stdin",
     "output_type": "stream",
     "text": [
      "Enter a string 6\n"
     ]
    },
    {
     "data": {
      "text/plain": [
       "True"
      ]
     },
     "execution_count": 27,
     "metadata": {},
     "output_type": "execute_result"
    }
   ],
   "source": [
    "def check_membership():\n",
    "    value = int(input(\"Enter a string\"))\n",
    "    \n",
    "    list2 = [2, 3, 1, 9, 6, 8, 5, 12]\n",
    "    \n",
    "    if value in list2:\n",
    "        return True\n",
    "    else:\n",
    "        return False\n",
    "check_membership()"
   ]
  },
  {
   "cell_type": "markdown",
   "id": "a4018cf5-3836-4fe4-80b1-4f7f4861bc9c",
   "metadata": {},
   "source": [
    "Write check_overlap() to identify if two lists share any elements."
   ]
  },
  {
   "cell_type": "code",
   "execution_count": 122,
   "id": "a1d3b5f2-6c77-4624-9c23-b0a23871987d",
   "metadata": {},
   "outputs": [
    {
     "name": "stdout",
     "output_type": "stream",
     "text": [
      "True\n",
      "False\n"
     ]
    }
   ],
   "source": [
    "def check_overlap(list1, list2):\n",
    "    for item in list1:\n",
    "        if item in list2:\n",
    "            return True\n",
    "    return False\n",
    "list_a = [1, 2, 3, 4]\n",
    "list_b = [3, 5, 6]\n",
    "\n",
    "result = check_overlap(list_a, list_b)\n",
    "print(result)\n",
    "\n",
    "list_c = [7, 8, 9]\n",
    "\n",
    "result = check_overlap(list_a, list_c)\n",
    "print(result) \n"
   ]
  },
  {
   "cell_type": "markdown",
   "id": "6c571b6a-d362-4404-8b19-17aff70af880",
   "metadata": {},
   "source": [
    "Create a function print_histogram() that takes a list of integers and prints a corresponding histogram."
   ]
  },
  {
   "cell_type": "code",
   "execution_count": 142,
   "id": "53836028-b4c1-42fb-97e8-a1134d8a210c",
   "metadata": {},
   "outputs": [
    {
     "data": {
      "image/png": "[encoded data removed]",
      "text/plain": [
       "<Figure size 640x480 with 1 Axes>"
      ]
     },
     "metadata": {},
     "output_type": "display_data"
    }
   ],
   "source": [
    "import matplotlib.pyplot as plt\n",
    "def print_histogram(list3):\n",
    "    plt.hist(list3)\n",
    "    plt.show() \n",
    "print_histogram([3, 8,12,  4, 6, 7, 7,4, 6,5,6,12, 11, 17,10, 15])\n",
    "    "
   ]
  },
  {
   "cell_type": "markdown",
   "id": "16a388c2-f575-4a08-be7c-0131cab0a29d",
   "metadata": {},
   "source": [
    "Write find_max_in_list() to identify the largest number in a list of arbitrary length"
   ]
  },
  {
   "cell_type": "code",
   "execution_count": 134,
   "id": "6f26a973-66e6-4952-a0b6-c00d1a57102f",
   "metadata": {},
   "outputs": [
    {
     "data": {
      "text/plain": [
       "54"
      ]
     },
     "execution_count": 134,
     "metadata": {},
     "output_type": "execute_result"
    }
   ],
   "source": [
    "def find_max_in_list(list4):\n",
    "     return max(list4)\n",
    "find_max_in_list([9, 12, 45,21, 45, 13, 7, 34,54,12,27])"
   ]
  },
  {
   "cell_type": "markdown",
   "id": "77d5833b-9bad-4451-9e2f-9af7bc3ee01b",
   "metadata": {},
   "source": [
    "Create a program that maps each word in a list to its length"
   ]
  },
  {
   "cell_type": "code",
   "execution_count": 144,
   "id": "6f12c4bf-75ca-42fb-a6cc-08d738530cb8",
   "metadata": {},
   "outputs": [
    {
     "name": "stdout",
     "output_type": "stream",
     "text": [
      "4\n",
      "4\n",
      "6\n",
      "4\n",
      "8\n",
      "6\n"
     ]
    }
   ],
   "source": [
    "def map_list(my_list):\n",
    "    for list in my_list:\n",
    "        print(len(list))\n",
    "map_list([\"rama\", \"yaha\", \"samaki\", \"zaza\", \"rtyffccf\",\"tatayu\"])  "
   ]
  },
  {
   "cell_type": "code",
   "execution_count": null,
   "id": "665875bf-0512-4b41-9670-5e4a6e3accc4",
   "metadata": {},
   "outputs": [],
   "source": []
  }
 ],
 "metadata": {
  "kernelspec": {
   "display_name": "Python 3 (ipykernel)",
   "language": "python",
   "name": "python3"
  },
  "language_info": {
   "codemirror_mode": {
    "name": "ipython",
    "version": 3
   },
   "file_extension": ".py",
   "mimetype": "text/x-python",
   "name": "python",
   "nbconvert_exporter": "python",
   "pygments_lexer": "ipython3",
   "version": "3.12.4"
  }
 },
 "nbformat": 4,
 "nbformat_minor": 5
}
