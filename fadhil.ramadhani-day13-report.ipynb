{
 "cells": [
  {
   "cell_type": "markdown",
   "id": "a1e940e2-d298-4f5a-9126-c8336723cb4a",
   "metadata": {},
   "source": [
    "## RAMADHANI FADHIL MOSHI"
   ]
  },
  {
   "cell_type": "markdown",
   "id": "4b584e62-0016-4c06-9167-e44d33eda50a",
   "metadata": {},
   "source": [
    "## PyPro: Challenge 3"
   ]
  },
  {
   "cell_type": "markdown",
   "id": "ad271149-dced-4b56-a80b-982e53ab7296",
   "metadata": {},
   "source": [
    "1.Perfect Numbers Calculation\n",
    "By definition, a natural number is called a perfect number if its value is equal to the sum of its divisors. For example, 6 and 28 are perfect numbers:\n",
    "1 + 2 + 3 = 6\n",
    "1 + 2 + 4 + 7 + 14 = 28\n",
    "Write a function calc_perfect_numbers(max_exclusive) that calculates all perfect numbers up to a maximum value, such as 10,000."
   ]
  },
  {
   "cell_type": "code",
   "execution_count": 57,
   "id": "fd2687af-0e12-40b9-a638-c6b5ccd37792",
   "metadata": {},
   "outputs": [
    {
     "name": "stdout",
     "output_type": "stream",
     "text": [
      "[6, 28, 496, 8128]\n"
     ]
    }
   ],
   "source": [
    "def calc_perfect_numbers(max_exclusive):\n",
    "    def check_perfect(n):\n",
    "        if n < 2:\n",
    "            return []\n",
    "        sum=1\n",
    "        for i in range(2,n):\n",
    "            if n%i == 0:\n",
    "                sum+=i\n",
    "        if (sum==n):\n",
    "            return n\n",
    "    result=[]\n",
    "    for num in range(2,max_exclusive):\n",
    "        if check_perfect(num):\n",
    "            result.append(num)\n",
    "    return result\n",
    "perfect_numbers_10000=calc_perfect_numbers(10000)\n",
    "print(perfect_numbers_10000)"
   ]
  },
  {
   "cell_type": "markdown",
   "id": "16ce2bec-6965-4133-806b-9b420122847d",
   "metadata": {},
   "source": [
    "2. Prime Numbers Calculation\n",
    "Write a function calc_primes_up_to(max_value) to compute all prime numbers up to a given value. A prime number is a natural number greater than 1 that is only divisible by 1 and itself. The Sieve of Eratosthenes is a useful algorithm for this task.\n",
    "Test your algorithm with the following values:"
   ]
  },
  {
   "cell_type": "code",
   "execution_count": 88,
   "id": "7d86b8f7-9572-42c3-b816-c7ee12b460e9",
   "metadata": {},
   "outputs": [
    {
     "name": "stdout",
     "output_type": "stream",
     "text": [
      "[2, 3, 5, 7, 11, 13]\n",
      "[2, 3, 5, 7, 11, 13, 17, 19, 23]\n",
      "[2, 3, 5, 7, 11, 13, 17, 19, 23, 29, 31, 37, 41, 43, 47]\n"
     ]
    }
   ],
   "source": [
    "def calc_primes_up_to(max_value):\n",
    "    def prime_num(n):\n",
    "        if n < 2:\n",
    "            return False\n",
    "        for i in range(2,  n-1):\n",
    "            if n % i == 0:\n",
    "                return False\n",
    "        return True\n",
    "    \n",
    "    result = []\n",
    "    for x in range(2, max_value): \n",
    "        if prime_num(x):\n",
    "            result.append(x)\n",
    "    return result\n",
    "\n",
    "max_number_15 = calc_primes_up_to(15)\n",
    "print(max_number_15)\n",
    "max_number_25 = calc_primes_up_to(25)\n",
    "print(max_number_25)\n",
    "max_number_50 = calc_primes_up_to(50)\n",
    "print(max_number_50)"
   ]
  },
  {
   "cell_type": "markdown",
   "id": "41bc0b68-40dd-447d-a503-382ab31aa0cd",
   "metadata": {},
   "source": [
    "3. Twin, Cousin, and Sexy Prime Numbers\n",
    "Compute all pairs of prime numbers with a distance of 2 (twin), 4 (cousin), and 6 (sexy) up to an upper bound n.\n",
    "For example, for limit=50, the expected results are:\n",
    "\n",
    "Twins: {3: 5, 5: 7, 11: 13, 17: 19, 29: 31, 41: 43}\n",
    "\n",
    "Cousins: {3: 7, 7: 11, 13: 17, 19: 23, 37: 41, 43: 47}\n",
    "\n",
    "Sexy: {5: 11, 7: 13, 11: 17, 13: 19, 17: 23, 23: 29, 31: 37, 37: 43, 41: 47, 47: 53}"
   ]
  },
  {
   "cell_type": "code",
   "execution_count": 98,
   "id": "e181e3c9-0130-44bb-9265-3785d4f7c815",
   "metadata": {},
   "outputs": [
    {
     "name": "stdout",
     "output_type": "stream",
     "text": [
      "Twins: {3: 5, 5: 7, 11: 13, 17: 19, 29: 31, 41: 43}\n",
      "Cousins: {3: 7, 7: 11, 13: 17, 19: 23, 37: 41, 43: 47}\n",
      "Sexy: {5: 11, 7: 13, 11: 17, 13: 19, 17: 23, 23: 29, 31: 37, 37: 43, 41: 47}\n"
     ]
    }
   ],
   "source": [
    "def pairs_prime(num):\n",
    "    if num < 2:\n",
    "        return False\n",
    "    for x in range(2, int(num**0.5) + 1):\n",
    "        if num % x == 0:\n",
    "            return False\n",
    "    return True\n",
    "\n",
    "def find_prime_pairs(n, difference):\n",
    "    primes = [y for y in range(2, n+1) if is_prime(y)]\n",
    "    pairs = {p: p + difference for p in primes if (p + difference) in primes}\n",
    "    return pairs\n",
    "\n",
    "def compute_prime_pairs(limit):\n",
    "    twins = find_prime_pairs(limit, 2)\n",
    "    cousins = find_prime_pairs(limit, 4)\n",
    "    sexy = find_prime_pairs(limit, 6)\n",
    "    return twins, cousins, sexy\n",
    "\n",
    "limit = 50\n",
    "twins, cousins, sexy = compute_prime_pairs(limit)\n",
    "print(\"Twins:\", twins)\n",
    "print(\"Cousins:\", cousins)\n",
    "print(\"Sexy:\", sexy)\n"
   ]
  },
  {
   "cell_type": "markdown",
   "id": "170a25c7-eaf0-40af-9244-ad66c16c63a0",
   "metadata": {},
   "source": [
    "4. Sum of Digits (Recursive)\n",
    "Write a recursive function calc_sum_of_digits(value) that calculates the sum of the digits of a given number."
   ]
  },
  {
   "cell_type": "code",
   "execution_count": 122,
   "id": "ad8a121b-61af-49da-9420-f5dcb447899c",
   "metadata": {},
   "outputs": [
    {
     "name": "stdout",
     "output_type": "stream",
     "text": [
      "10\n",
      "28\n"
     ]
    }
   ],
   "source": [
    "def calc_sum_of_digits(value):\n",
    "    if value == 0:\n",
    "        return 0\n",
    "    else:\n",
    "       \n",
    "        last_digit = value % 10 \n",
    "        remaining_digits = value // 10  \n",
    "        return last_digit + calc_sum_of_digits(remaining_digits)\n",
    "\n",
    "print(calc_sum_of_digits(1234))\n",
    "print(calc_sum_of_digits(1234567))"
   ]
  },
  {
   "cell_type": "markdown",
   "id": "b6aef8cd-5404-4dc4-992e-cf707c92564d",
   "metadata": {},
   "source": [
    "5. Convert to Binary (Recursive)\n",
    "Write a function to_binary(n) that recursively converts the given positive integer into its binary string representation (without using int(x, base)).\n",
    "Examples: 5  “101”"
   ]
  },
  {
   "cell_type": "code",
   "execution_count": 118,
   "id": "0e09fbcb-230a-42f8-86d3-32f5e1fc27cf",
   "metadata": {},
   "outputs": [
    {
     "name": "stdout",
     "output_type": "stream",
     "text": [
      "101\n",
      "111\n",
      "10110\n",
      "101010\n",
      "100000000\n"
     ]
    }
   ],
   "source": [
    "def to_binary(n):\n",
    "    if n == 0:\n",
    "        return 0\n",
    "    else:\n",
    "        return (n % 2 + 10 * to_binary(int(n//2)))\n",
    "print(to_binary(5))\n",
    "print(to_binary(7))\n",
    "print(to_binary(22))\n",
    "print(to_binary(42))\n",
    "print(to_binary(256))"
   ]
  },
  {
   "cell_type": "markdown",
   "id": "b1f6f01b-9497-4f39-bb97-5536509e4ef4",
   "metadata": {},
   "source": [
    "6.Letter Permutations\n",
    "Write a function calc_permutations(text) that calculates all possible permutations of the characters in the given string. Handle duplicate letters but avoid using Python’s itertools.permutations().\n",
    "Examples:"
   ]
  },
  {
   "cell_type": "code",
   "execution_count": null,
   "id": "72784a9f-809d-4ddb-a9f9-be12267095ce",
   "metadata": {},
   "outputs": [],
   "source": []
  },
  {
   "cell_type": "markdown",
   "id": "d46455fc-7522-494f-ae2e-570c8dacd6a2",
   "metadata": {},
   "source": [
    "7.Join Strings with Delimiter\n",
    "Write a function join(values, delimiter) that joins a list of strings with the given delimiter and returns it as a single string. Implement this without using Python’s built-in join() function.\n",
    "Example:\n",
    "\n",
    "Input: [\"hello\", \"world\", \"message\"], \" +++ \"\n",
    "\n",
    "Result: \"hello +++ world +++ message\""
   ]
  },
  {
   "cell_type": "code",
   "execution_count": 125,
   "id": "cc2d3446-9311-4a49-9593-9f1efaa3466b",
   "metadata": {},
   "outputs": [
    {
     "name": "stdout",
     "output_type": "stream",
     "text": [
      "hello +++ world +++ message\n"
     ]
    }
   ],
   "source": [
    "def join(values, delimiter):\n",
    "    if not values:\n",
    "        return \"\"\n",
    "\n",
    "    result = values[0]\n",
    "    for i in range(1, len(values)):\n",
    "        result += delimiter + values[i]\n",
    "\n",
    "    return result\n",
    "\n",
    "values = [\"hello\", \"world\", \"message\"]\n",
    "delimiter = \" +++ \"\n",
    "result = join(values, delimiter)\n",
    "print(result) "
   ]
  },
  {
   "cell_type": "markdown",
   "id": "a7ec63d2-afff-48c0-ab2b-5d6e6517ee4c",
   "metadata": {},
   "source": [
    "8. Pascal’s Triangle\n",
    "Write a function pascal(n) that computes Pascal’s triangle as nested lists. Each line is generated from the previous one, with sums of adjacent numbers and a 1 at the beginning and end.\n",
    "Example for n=5:"
   ]
  },
  {
   "cell_type": "code",
   "execution_count": 131,
   "id": "0dbb69a5-e14a-45df-a401-e5b8a19a906e",
   "metadata": {},
   "outputs": [
    {
     "name": "stdout",
     "output_type": "stream",
     "text": [
      "[1]\n",
      "[1, 1]\n",
      "[1, 2, 1]\n",
      "[1, 3, 3, 1]\n",
      "[1, 4, 6, 4, 1]\n"
     ]
    }
   ],
   "source": [
    "def pascal(n):\n",
    "    tril = []\n",
    "    for i in range(n):\n",
    "        row = [1] * (i + 1) \n",
    "        for j in range(1, i):\n",
    "            row[j] = tril[i-1][j-1] + tril[i-1][j]\n",
    "        tril.append(row)\n",
    "    return tril\n",
    "result = pascal(5)\n",
    "for row in result:\n",
    "    print(row)"
   ]
  }
 ],
 "metadata": {
  "kernelspec": {
   "display_name": "Python 3 (ipykernel)",
   "language": "python",
   "name": "python3"
  },
  "language_info": {
   "codemirror_mode": {
    "name": "ipython",
    "version": 3
   },
   "file_extension": ".py",
   "mimetype": "text/x-python",
   "name": "python",
   "nbconvert_exporter": "python",
   "pygments_lexer": "ipython3",
   "version": "3.12.4"
  }
 },
 "nbformat": 4,
 "nbformat_minor": 5
}
