{
 "cells": [
  {
   "cell_type": "markdown",
   "id": "f59018e9-96bf-4277-9888-986f9997dc71",
   "metadata": {},
   "source": [
    "## RAMADHANI FADHIL MOSHI"
   ]
  },
  {
   "cell_type": "markdown",
   "id": "9445725d-890d-4000-a753-60464202473f",
   "metadata": {},
   "source": [
    "## Practical_6: Numpy"
   ]
  },
  {
   "cell_type": "markdown",
   "id": "081ff338-9843-4cf6-b7a2-8df8e9e3122f",
   "metadata": {},
   "source": [
    "Exercise 1:\n",
    "Create a NumPy array of integers from 1 to 10."
   ]
  },
  {
   "cell_type": "code",
   "execution_count": 140,
   "id": "6065830a-f31e-4505-966b-a9a17959e9d7",
   "metadata": {},
   "outputs": [],
   "source": [
    "import numpy as np"
   ]
  },
  {
   "cell_type": "code",
   "execution_count": 16,
   "id": "d16af7a7-7ca1-4c1c-a7dc-e75b3a8f558c",
   "metadata": {},
   "outputs": [
    {
     "data": {
      "text/plain": [
       "array([0, 1, 2, 3, 4, 5, 6, 7, 8, 9])"
      ]
     },
     "execution_count": 16,
     "metadata": {},
     "output_type": "execute_result"
    }
   ],
   "source": [
    "arry1 = np.arange(0, 10, 1)\n",
    "arry1"
   ]
  },
  {
   "cell_type": "markdown",
   "id": "ac850b4f-de8a-4d65-8bdd-66652ff34369",
   "metadata": {},
   "source": [
    "Exercise 2:\n",
    "Create a 3x3 NumPy array filled with zeros."
   ]
  },
  {
   "cell_type": "code",
   "execution_count": 20,
   "id": "c167c7a5-1a24-4067-9d72-5a4e53f372cf",
   "metadata": {},
   "outputs": [
    {
     "name": "stdout",
     "output_type": "stream",
     "text": [
      "[[0. 0. 0.]\n",
      " [0. 0. 0.]\n",
      " [0. 0. 0.]]\n"
     ]
    }
   ],
   "source": [
    "p = np.zeros((3,3))  \n",
    "print(p)              \n",
    "           "
   ]
  },
  {
   "cell_type": "markdown",
   "id": "493f37df-d283-4e41-b29b-6ba5670a7bc2",
   "metadata": {},
   "source": [
    "Exercise 3:\n",
    "Create a NumPy array of 10 evenly spaced numbers between 0 and 5."
   ]
  },
  {
   "cell_type": "code",
   "execution_count": 41,
   "id": "41f754dc-bf90-444e-9ff8-8118bdc90e76",
   "metadata": {},
   "outputs": [
    {
     "name": "stdout",
     "output_type": "stream",
     "text": [
      "[0.         0.55555556 1.11111111 1.66666667 2.22222222 2.77777778\n",
      " 3.33333333 3.88888889 4.44444444 5.        ]\n"
     ]
    }
   ],
   "source": [
    "g = np.linspace(0, 5, 10)\n",
    "print(g)"
   ]
  },
  {
   "cell_type": "markdown",
   "id": "08bf4074-c821-411d-a627-2221e7102894",
   "metadata": {},
   "source": [
    "Exercise 4:\n",
    "Create a 5x5 identity matrix using NumPy."
   ]
  },
  {
   "cell_type": "code",
   "execution_count": 5,
   "id": "3d37f563-e54e-4ae4-8b82-3e95ad086b7e",
   "metadata": {},
   "outputs": [
    {
     "data": {
      "text/plain": [
       "array([[1., 0., 0., 0., 0.],\n",
       "       [0., 1., 0., 0., 0.],\n",
       "       [0., 0., 1., 0., 0.],\n",
       "       [0., 0., 0., 1., 0.],\n",
       "       [0., 0., 0., 0., 1.]])"
      ]
     },
     "execution_count": 5,
     "metadata": {},
     "output_type": "execute_result"
    }
   ],
   "source": [
    "A = np.eye(5)\n",
    "A"
   ]
  },
  {
   "cell_type": "markdown",
   "id": "70fae0ab-0890-426d-af5b-a80d780b3a68",
   "metadata": {},
   "source": [
    "Exercise 5:\n",
    "Create a 4x4 matrix with random values between 0 and 1."
   ]
  },
  {
   "cell_type": "code",
   "execution_count": 10,
   "id": "7836a8a6-ff79-4862-8c9d-816525bae56b",
   "metadata": {},
   "outputs": [
    {
     "data": {
      "text/plain": [
       "array([[0.03928443, 0.91279995, 0.31312712, 0.06371349],\n",
       "       [0.44527603, 0.31589452, 0.02712727, 0.25211289],\n",
       "       [0.13777378, 0.65606351, 0.51146626, 0.34253516],\n",
       "       [0.35835552, 0.6679604 , 0.02335373, 0.88408903]])"
      ]
     },
     "execution_count": 10,
     "metadata": {},
     "output_type": "execute_result"
    }
   ],
   "source": [
    "A = np.random.rand(4,4)\n",
    "A"
   ]
  },
  {
   "cell_type": "code",
   "execution_count": 13,
   "id": "690ee6de-23a6-46ff-b62e-ef60d28e5c68",
   "metadata": {},
   "outputs": [
    {
     "data": {
      "text/plain": [
       "array([[0.77132064, 0.02075195, 0.63364823, 0.74880388],\n",
       "       [0.49850701, 0.22479665, 0.19806286, 0.76053071],\n",
       "       [0.16911084, 0.08833981, 0.68535982, 0.95339335],\n",
       "       [0.00394827, 0.51219226, 0.81262096, 0.61252607]])"
      ]
     },
     "execution_count": 13,
     "metadata": {},
     "output_type": "execute_result"
    }
   ],
   "source": [
    "np.random.seed(10)\n",
    "A = np.random.rand(4,4)\n",
    "A"
   ]
  },
  {
   "cell_type": "code",
   "execution_count": 3,
   "id": "a9b63751-225b-41e6-b4c8-fd3b1dbe5043",
   "metadata": {},
   "outputs": [
    {
     "data": {
      "text/plain": [
       "array([[0.5488135 , 0.71518937, 0.60276338, 0.54488318],\n",
       "       [0.4236548 , 0.64589411, 0.43758721, 0.891773  ],\n",
       "       [0.96366276, 0.38344152, 0.79172504, 0.52889492],\n",
       "       [0.56804456, 0.92559664, 0.07103606, 0.0871293 ]])"
      ]
     },
     "execution_count": 3,
     "metadata": {},
     "output_type": "execute_result"
    }
   ],
   "source": [
    "np.random.seed(0)\n",
    "A = np.random.rand(4,4)\n",
    "A"
   ]
  },
  {
   "cell_type": "markdown",
   "id": "e0524c1e-8a5b-4f26-b7e9-20fa141deb19",
   "metadata": {},
   "source": [
    "Exercise 6:\n",
    "Find the shape of a NumPy array."
   ]
  },
  {
   "cell_type": "code",
   "execution_count": 5,
   "id": "ec03dc46-b26a-46a0-a1f0-176c381f808e",
   "metadata": {},
   "outputs": [
    {
     "data": {
      "text/plain": [
       "(4, 4)"
      ]
     },
     "execution_count": 5,
     "metadata": {},
     "output_type": "execute_result"
    }
   ],
   "source": [
    "A.shape"
   ]
  },
  {
   "cell_type": "markdown",
   "id": "15fd39b4-aef1-496d-8296-b7d7f0c71d18",
   "metadata": {},
   "source": [
    "Exercise 7:\n",
    "Reshape a 1D NumPy array of 16 elements into a 4x4 matrix."
   ]
  },
  {
   "cell_type": "code",
   "execution_count": 397,
   "id": "de2db720-ebcc-4e77-8ed5-3ab630e9999a",
   "metadata": {},
   "outputs": [
    {
     "data": {
      "text/plain": [
       "array([[2, 3, 4],\n",
       "       [1, 2, 5],\n",
       "       [1, 0, 1]])"
      ]
     },
     "execution_count": 397,
     "metadata": {},
     "output_type": "execute_result"
    }
   ],
   "source": [
    "new_array = A.reshape(3,3)\n",
    "new_array"
   ]
  },
  {
   "cell_type": "markdown",
   "id": "699407ea-2c10-4459-9bf6-b5cfb03d9dcb",
   "metadata": {},
   "source": [
    "Exercise 8:\r\n",
    "Find the data type of the elements in a NumPy array."
   ]
  },
  {
   "cell_type": "code",
   "execution_count": 11,
   "id": "54ad459f-117b-4234-a0a7-e4f5db11bfe4",
   "metadata": {},
   "outputs": [
    {
     "data": {
      "text/plain": [
       "dtype('float64')"
      ]
     },
     "execution_count": 11,
     "metadata": {},
     "output_type": "execute_result"
    }
   ],
   "source": [
    "A.dtype"
   ]
  },
  {
   "cell_type": "markdown",
   "id": "44cf5b8b-b0aa-46b0-bb05-9d4df1d79a81",
   "metadata": {},
   "source": [
    "Exercise 9:\n",
    "Create a NumPy array of integers from 1 to 100 and find all even numbers in the array."
   ]
  },
  {
   "cell_type": "code",
   "execution_count": 21,
   "id": "641f99fb-cd12-4932-a8d0-1e78d25a782d",
   "metadata": {},
   "outputs": [
    {
     "data": {
      "text/plain": [
       "array([  2,   4,   6,   8,  10,  12,  14,  16,  18,  20,  22,  24,  26,\n",
       "        28,  30,  32,  34,  36,  38,  40,  42,  44,  46,  48,  50,  52,\n",
       "        54,  56,  58,  60,  62,  64,  66,  68,  70,  72,  74,  76,  78,\n",
       "        80,  82,  84,  86,  88,  90,  92,  94,  96,  98, 100])"
      ]
     },
     "execution_count": 21,
     "metadata": {},
     "output_type": "execute_result"
    }
   ],
   "source": [
    "A = np.arange(2, 101, 2)\n",
    "A"
   ]
  },
  {
   "cell_type": "markdown",
   "id": "53a615e7-562f-435a-8edc-91b523c8610b",
   "metadata": {},
   "source": [
    "Exercise 10:\n",
    "Generate a 6x6 matrix of random integers between 10 and 50."
   ]
  },
  {
   "cell_type": "code",
   "execution_count": 14,
   "id": "8bcdb920-f6b5-4537-a0b8-9b82ee74ce59",
   "metadata": {},
   "outputs": [
    {
     "data": {
      "text/plain": [
       "array([[26, 15, 25, 10, 28, 45],\n",
       "       [34, 39, 29, 29, 24, 49],\n",
       "       [42, 11, 19, 42, 41, 20],\n",
       "       [33, 45, 21, 38, 44, 10],\n",
       "       [10, 46, 15, 48, 27, 25],\n",
       "       [14, 41, 11, 11, 49, 45]])"
      ]
     },
     "execution_count": 14,
     "metadata": {},
     "output_type": "execute_result"
    }
   ],
   "source": [
    "A = np.random.randint(10, 50, (6,6))\n",
    "A"
   ]
  },
  {
   "cell_type": "markdown",
   "id": "7e3356c0-6f36-4737-8e4b-4758dd2e90f1",
   "metadata": {},
   "source": [
    "Exercise 11:\n",
    "Slice a 2D NumPy array to extract a submatrix."
   ]
  },
  {
   "cell_type": "code",
   "execution_count": 38,
   "id": "e4b5a322-9bd2-46dc-8de8-6737d3a10d73",
   "metadata": {},
   "outputs": [
    {
     "name": "stdout",
     "output_type": "stream",
     "text": [
      "[[10  4]\n",
      " [ 5  6]]\n"
     ]
    }
   ],
   "source": [
    "a = np.array([[10,4,5], [5,6,2],[1,2,3]])\n",
    "b = a[:2, 0:2]\n",
    "print(b)"
   ]
  },
  {
   "cell_type": "markdown",
   "id": "491c20bc-ca47-498d-a624-1378c48d11e3",
   "metadata": {},
   "source": [
    "Exercise 12:\n",
    "Calculate the sum of all elements in a NumPy array."
   ]
  },
  {
   "cell_type": "code",
   "execution_count": 40,
   "id": "224d6844-1384-4a1f-85cc-a690232cc9c8",
   "metadata": {},
   "outputs": [
    {
     "name": "stdout",
     "output_type": "stream",
     "text": [
      "45\n"
     ]
    }
   ],
   "source": [
    "C = np.arange(0, 10, 1)\n",
    "sum = 0\n",
    "for i in C:\n",
    "    sum+=i\n",
    "print(sum)\n"
   ]
  },
  {
   "cell_type": "markdown",
   "id": "4c5db8b2-e941-4f1a-b06e-77c96c6fba9f",
   "metadata": {},
   "source": [
    "Exercise 13:\n",
    "Calculate the mean, median, and standard deviation of a NumPy array."
   ]
  },
  {
   "cell_type": "code",
   "execution_count": 50,
   "id": "bc03e3b3-54fa-4e6a-8474-faa6120c9d30",
   "metadata": {},
   "outputs": [
    {
     "data": {
      "text/plain": [
       "3.0724582991474434"
      ]
     },
     "execution_count": 50,
     "metadata": {},
     "output_type": "execute_result"
    }
   ],
   "source": [
    "B = np.array([2, 4, 5, 3, 9,6,5,12,8,10])\n",
    "np.mean(B)\n"
   ]
  },
  {
   "cell_type": "code",
   "execution_count": 52,
   "id": "ca4a3373-5d37-47c0-9922-ea8bb46e12e2",
   "metadata": {},
   "outputs": [
    {
     "data": {
      "text/plain": [
       "5.5"
      ]
     },
     "execution_count": 52,
     "metadata": {},
     "output_type": "execute_result"
    }
   ],
   "source": [
    "np.median(B)\n"
   ]
  },
  {
   "cell_type": "code",
   "execution_count": 56,
   "id": "ca8f5839-98b1-4951-b2f0-01ef6831e8ec",
   "metadata": {},
   "outputs": [
    {
     "data": {
      "text/plain": [
       "3.2386554137309647"
      ]
     },
     "execution_count": 56,
     "metadata": {},
     "output_type": "execute_result"
    }
   ],
   "source": [
    "np.std(B, ddof = True)"
   ]
  },
  {
   "cell_type": "markdown",
   "id": "a2c9cb3a-043f-404f-80cd-04fe32bc5c6f",
   "metadata": {},
   "source": [
    "Exercise 14:\n",
    "Find the maximum and minimum values in a NumPy array."
   ]
  },
  {
   "cell_type": "code",
   "execution_count": 61,
   "id": "fbfcaa26-9e8d-4128-b865-f98dc81f7c2f",
   "metadata": {},
   "outputs": [
    {
     "data": {
      "text/plain": [
       "12"
      ]
     },
     "execution_count": 61,
     "metadata": {},
     "output_type": "execute_result"
    }
   ],
   "source": [
    "B = np.array([2, 4, 5, 3, 9,6,5,12,8,10])\n",
    "np.max(B)"
   ]
  },
  {
   "cell_type": "code",
   "execution_count": 63,
   "id": "614b7650-758d-48b5-84fa-f2c51c288980",
   "metadata": {},
   "outputs": [
    {
     "data": {
      "text/plain": [
       "2"
      ]
     },
     "execution_count": 63,
     "metadata": {},
     "output_type": "execute_result"
    }
   ],
   "source": [
    "np.min(B)"
   ]
  },
  {
   "cell_type": "markdown",
   "id": "3cd6fb49-9de0-4edd-a2bc-2ac07c285041",
   "metadata": {},
   "source": [
    "Exercise 15:\n",
    "Create a NumPy array of 20 random integers and find the index of the maximum value."
   ]
  },
  {
   "cell_type": "code",
   "execution_count": 76,
   "id": "ff79ae36-28b8-41e3-8467-e858470ed040",
   "metadata": {},
   "outputs": [
    {
     "name": "stdout",
     "output_type": "stream",
     "text": [
      "[31 25  3  4 31 35 44 14 49 41  9 20 32  9 27  3  4 45 15 33]\n",
      "8\n"
     ]
    }
   ],
   "source": [
    "A = np.random.randint(1,50, size=20)\n",
    "maxvalue = np.argmax(A)\n",
    "print(A)\n",
    "print(maxvalue)"
   ]
  },
  {
   "cell_type": "markdown",
   "id": "a5a04d77-4c2d-47ac-81ac-4ec766d3f6a5",
   "metadata": {},
   "source": [
    "Exercise 16:\n",
    "Create a NumPy array and reverse its elements."
   ]
  },
  {
   "cell_type": "code",
   "execution_count": 79,
   "id": "b41620ea-1389-45d1-ac89-cb2dd56d55a5",
   "metadata": {},
   "outputs": [
    {
     "data": {
      "text/plain": [
       "array([10,  8, 12,  5,  6,  9,  3,  5,  4,  2])"
      ]
     },
     "execution_count": 79,
     "metadata": {},
     "output_type": "execute_result"
    }
   ],
   "source": [
    "B = np.array([2, 4, 5, 3, 9,6,5,12,8,10])\n",
    "B2 = B[::-1]\n",
    "B2"
   ]
  },
  {
   "cell_type": "markdown",
   "id": "bba3e89b-bbe3-45d3-8c5c-acef449b380b",
   "metadata": {},
   "source": [
    "Exercise 17:\n",
    "Create a 3x3 matrix and multiply it element-wise by another 3x3 matrix."
   ]
  },
  {
   "cell_type": "code",
   "execution_count": 103,
   "id": "69aa435a-73b9-4960-a5a2-27d8f8866bc8",
   "metadata": {},
   "outputs": [
    {
     "name": "stdout",
     "output_type": "stream",
     "text": [
      "[[1 2 3]\n",
      " [3 2 4]\n",
      " [1 5 3]]\n",
      "[[2 2 2]\n",
      " [3 1 4]\n",
      " [1 4 3]]\n"
     ]
    }
   ],
   "source": [
    "A = np.array([[1,2,3],[3,2,4],[1,5,3]])\n",
    "B = np.array([[2,2,2],[3,1,4],[1,4,3]])\n",
    "print(A)\n",
    "print(B)"
   ]
  },
  {
   "cell_type": "code",
   "execution_count": 109,
   "id": "b083dce4-2d8e-4894-96bf-383eb348916c",
   "metadata": {},
   "outputs": [
    {
     "name": "stdout",
     "output_type": "stream",
     "text": [
      "[[ 2  4  6]\n",
      " [ 9  2 16]\n",
      " [ 1 20  9]]\n"
     ]
    }
   ],
   "source": [
    "print(A*B)"
   ]
  },
  {
   "cell_type": "markdown",
   "id": "686d99d5-7013-4ae5-b089-60ffe6341256",
   "metadata": {},
   "source": [
    "Exercise 18:\n",
    "Create a diagonal matrix from a given 1D array."
   ]
  },
  {
   "cell_type": "code",
   "execution_count": 111,
   "id": "77e3e6ba-ff1e-4f2b-96d5-02e5ddd4c156",
   "metadata": {},
   "outputs": [
    {
     "data": {
      "text/plain": [
       "array([[7, 0, 0],\n",
       "       [0, 7, 0],\n",
       "       [0, 0, 7]])"
      ]
     },
     "execution_count": 111,
     "metadata": {},
     "output_type": "execute_result"
    }
   ],
   "source": [
    "C = np.diag([7,7,7])\n",
    "C"
   ]
  },
  {
   "cell_type": "markdown",
   "id": "283be42d-7065-47fe-bfb5-d3a29066edf4",
   "metadata": {},
   "source": [
    "Exercise 19:\n",
    "Perform matrix multiplication on two 2D NumPy arrays."
   ]
  },
  {
   "cell_type": "code",
   "execution_count": 116,
   "id": "b55efe3e-6d66-455c-bd86-edce8dfece93",
   "metadata": {},
   "outputs": [
    {
     "name": "stdout",
     "output_type": "stream",
     "text": [
      "[[24  6]\n",
      " [38 10]]\n"
     ]
    }
   ],
   "source": [
    "x = np.array([[2,2],[2,4]])\n",
    "y = np.array([[5,1],[7,2]])\n",
    "print(np.dot(x, y))\n"
   ]
  },
  {
   "cell_type": "markdown",
   "id": "c24639b9-e52b-4b15-a733-fdb5f9c9bae5",
   "metadata": {},
   "source": [
    "Exercise 20:\n",
    "Flatten a 2D NumPy array into a 1D array."
   ]
  },
  {
   "cell_type": "code",
   "execution_count": 125,
   "id": "64f688af-5ac7-4012-b353-82bde612d7f5",
   "metadata": {},
   "outputs": [
    {
     "data": {
      "text/plain": [
       "array([2, 2, 2, 4])"
      ]
     },
     "execution_count": 125,
     "metadata": {},
     "output_type": "execute_result"
    }
   ],
   "source": [
    "x = np.array([[2,2],[2,4]])\n",
    "x.flatten()"
   ]
  },
  {
   "cell_type": "markdown",
   "id": "603fb751-c08e-4619-afe7-cbeba75eb01e",
   "metadata": {},
   "source": [
    "Exercise 21:\n",
    "Stack two NumPy arrays vertically."
   ]
  },
  {
   "cell_type": "code",
   "execution_count": 135,
   "id": "f53685ac-ab51-4406-9fb1-d76c1be8f9a2",
   "metadata": {
    "scrolled": true
   },
   "outputs": [
    {
     "data": {
      "text/plain": [
       "array([[2, 2],\n",
       "       [2, 4],\n",
       "       [5, 1],\n",
       "       [7, 2]])"
      ]
     },
     "execution_count": 135,
     "metadata": {},
     "output_type": "execute_result"
    }
   ],
   "source": [
    "a= np.array([[2,2],[2,4]])\n",
    "b = np.array([[5,1],[7,2]])\n",
    "np.vstack((a, b))"
   ]
  },
  {
   "cell_type": "markdown",
   "id": "cb69dfa5-253c-4568-88bf-1a8f480e125f",
   "metadata": {},
   "source": [
    "Exercise 22:\n",
    " Stack two NumPy arrays horizontally."
   ]
  },
  {
   "cell_type": "code",
   "execution_count": 160,
   "id": "6e9f34bd-02d7-4f58-9212-b7cd753d9f33",
   "metadata": {},
   "outputs": [
    {
     "data": {
      "text/plain": [
       "array([[2, 2, 5, 1],\n",
       "       [2, 4, 7, 2]])"
      ]
     },
     "execution_count": 160,
     "metadata": {},
     "output_type": "execute_result"
    }
   ],
   "source": [
    "a= np.array([[2,2],[2,4]])\n",
    "b = np.array([[5,1],[7,2]])\n",
    "np.hstack((a, b))"
   ]
  },
  {
   "cell_type": "markdown",
   "id": "29249145-07b7-4501-b949-5da30b30b062",
   "metadata": {},
   "source": [
    "Exercise 23:\n",
    "Split a NumPy array into multiple sub-arrays.\n"
   ]
  },
  {
   "cell_type": "code",
   "execution_count": 174,
   "id": "ef561485-4081-4049-aa63-f61b24a6dfc5",
   "metadata": {},
   "outputs": [
    {
     "name": "stdout",
     "output_type": "stream",
     "text": [
      "[2 2 5 1]\n",
      "[2 4 7 2]\n"
     ]
    }
   ],
   "source": [
    "arr = np.array([2, 2, 5, 1,2, 4, 7, 2])\n",
    "arr1 = arr[:4]\n",
    "arr2 = arr[4:]\n",
    "print(arr1)\n",
    "print(arr2)"
   ]
  },
  {
   "cell_type": "markdown",
   "id": "c056ca30-2acd-4301-a683-db1b0ff724d0",
   "metadata": {},
   "source": [
    "Exercise 24:\n",
    "Generate a random NumPy array and round each element to two decimal places."
   ]
  },
  {
   "cell_type": "code",
   "execution_count": 187,
   "id": "9ed966fe-292e-4497-bc49-b9f71b554384",
   "metadata": {},
   "outputs": [
    {
     "data": {
      "text/plain": [
       "array([0.37, 0.44, 0.89, 0.81, 0.7 , 0.1 , 0.92, 0.71, 1.  , 0.15])"
      ]
     },
     "execution_count": 187,
     "metadata": {},
     "output_type": "execute_result"
    }
   ],
   "source": [
    "Z = np.random.random(10)\n",
    "R= np.round(Z, 2)\n",
    "R"
   ]
  },
  {
   "cell_type": "markdown",
   "id": "ed05ea04-603b-43cd-9714-f304a269b72c",
   "metadata": {},
   "source": [
    "Exercise 25:\n",
    "Find the unique elements of a NumPy array."
   ]
  },
  {
   "cell_type": "code",
   "execution_count": 194,
   "id": "1a104f1a-b7e2-4341-b83d-53abc7557631",
   "metadata": {},
   "outputs": [
    {
     "name": "stdout",
     "output_type": "stream",
     "text": [
      "[2 3 4 5 6 7]\n"
     ]
    }
   ],
   "source": [
    "array1 = np.array([2,3,4,2,5,6,3,5,7])\n",
    "x = np.unique(array1)\n",
    "print(x)"
   ]
  },
  {
   "cell_type": "markdown",
   "id": "b1dd04fa-7e04-46e5-b5d1-5939c7e0b779",
   "metadata": {},
   "source": [
    "Exercise 26:\n",
    "Replace all elements in a NumPy array that are less than a specific value with that value."
   ]
  },
  {
   "cell_type": "code",
   "execution_count": 213,
   "id": "672685dc-a0bd-4531-82f6-2eacd4d267b4",
   "metadata": {},
   "outputs": [
    {
     "name": "stdout",
     "output_type": "stream",
     "text": [
      "[3 3 4 3 5 6 3 5 7]\n"
     ]
    }
   ],
   "source": [
    "array1 = np.array([2,3,4,2,5,6,3,5,7])\n",
    "q=3\n",
    "array1[array1 < q]=q\n",
    "print(array1)\n"
   ]
  },
  {
   "cell_type": "markdown",
   "id": "ced2e563-e7be-41d4-ab91-28e2aaded29c",
   "metadata": {},
   "source": [
    "Exercise 27:\n",
    "Find the cumulative sum of the elements in a NumPy array."
   ]
  },
  {
   "cell_type": "code",
   "execution_count": 220,
   "id": "98e511c3-14f6-4bae-be20-02969d329431",
   "metadata": {},
   "outputs": [
    {
     "name": "stdout",
     "output_type": "stream",
     "text": [
      "[ 2  5  9 11 16 22 25 30 37]\n"
     ]
    }
   ],
   "source": [
    "array1 = np.array([2,3,4,2,5,6,3,5,7])\n",
    "print(np.cumsum(array1))"
   ]
  },
  {
   "cell_type": "markdown",
   "id": "52f99333-734f-4fb0-80c5-96861445c255",
   "metadata": {},
   "source": [
    "Exercise 28:\n",
    "Create a NumPy array and find the number of non-zero elements in it."
   ]
  },
  {
   "cell_type": "code",
   "execution_count": 235,
   "id": "b6392d42-7955-4989-b79e-bdf35ab53e52",
   "metadata": {},
   "outputs": [
    {
     "name": "stdout",
     "output_type": "stream",
     "text": [
      "7\n"
     ]
    }
   ],
   "source": [
    "array1 = np.array([3,3,0,2,5,0,3,5,7])\n",
    "print(np.count_nonzero(array1))"
   ]
  },
  {
   "cell_type": "markdown",
   "id": "e68e35e9-ba48-480a-9f9d-583bc05233ae",
   "metadata": {},
   "source": [
    "Exercise 29:\n",
    "Create a NumPy array of random integers and sort it in ascending order."
   ]
  },
  {
   "cell_type": "code",
   "execution_count": 242,
   "id": "cfebae41-e414-4692-b2ab-2b8a2640ab73",
   "metadata": {},
   "outputs": [
    {
     "data": {
      "text/plain": [
       "array([ 2,  4,  6,  9, 12, 17, 18, 26, 28, 30, 31, 34, 35, 36, 36, 37, 40,\n",
       "       41, 49, 49])"
      ]
     },
     "execution_count": 242,
     "metadata": {},
     "output_type": "execute_result"
    }
   ],
   "source": [
    "array2 = np.random.randint(1, 50, size=20)\n",
    "np.sort(array2)"
   ]
  },
  {
   "cell_type": "markdown",
   "id": "fdddde89-cb95-4ae2-ac91-92833835bab3",
   "metadata": {},
   "source": [
    "Exercise 30:\n",
    "Find the row-wise and column-wise sum of a 3x3 matrix."
   ]
  },
  {
   "cell_type": "code",
   "execution_count": 254,
   "id": "31ac7422-33d7-4f79-b15a-95953f94c11f",
   "metadata": {},
   "outputs": [
    {
     "name": "stdout",
     "output_type": "stream",
     "text": [
      "[[18 42  1]\n",
      " [23 17 43]\n",
      " [37 31 25]]\n",
      "row sum [61 83 93]\n",
      "column sum [78 90 69]\n"
     ]
    }
   ],
   "source": [
    "array2 = np.random.randint(1, 50, size=(3,3))\n",
    "print(array2)\n",
    "print(\"row sum\", np.sum(array2, axis=1))\n",
    "print(\"column sum\", np.sum(array2, axis=0))"
   ]
  },
  {
   "cell_type": "markdown",
   "id": "7438a3f9-73cd-4083-a39d-7485ccedc3e4",
   "metadata": {},
   "source": [
    "Exercise 31:\n",
    "Generate a 2D NumPy array with random values and normalize it (scale the values between 0 and 1)."
   ]
  },
  {
   "cell_type": "code",
   "execution_count": 287,
   "id": "85062bd9-3099-46e1-ac6a-24a9140ab02b",
   "metadata": {},
   "outputs": [
    {
     "name": "stdout",
     "output_type": "stream",
     "text": [
      "[[0.47837031 0.49739137 0.63947252]\n",
      " [0.36858461 0.13690027 0.82211773]\n",
      " [0.18984791 0.51131898 0.22431703]]\n",
      "=====================\n",
      "normalized_array3\n",
      "[[0.4983382  0.52609735 0.73344927]\n",
      " [0.33811797 0.         1.        ]\n",
      " [0.07727129 0.54642319 0.1275752 ]]\n"
     ]
    }
   ],
   "source": [
    "array3 = np.random.rand(3,3)\n",
    "print(array3)\n",
    "normalized_array3 = (array3 - np.min(array3)) / (np.max(array3) - np.min(array3))\n",
    "print(\"=====================\")\n",
    "print(\"normalized_array3\")\n",
    "\n",
    "print(normalized_array3)"
   ]
  },
  {
   "cell_type": "markdown",
   "id": "d67377ab-07dc-48e1-bf43-4f3c8b650bad",
   "metadata": {},
   "source": [
    "Exercise 32:\n",
    "Create two NumPy arrays and find the dot product."
   ]
  },
  {
   "cell_type": "code",
   "execution_count": 275,
   "id": "858c1d98-74da-4741-9fea-bdc236098218",
   "metadata": {},
   "outputs": [
    {
     "name": "stdout",
     "output_type": "stream",
     "text": [
      "[[11 16 27]\n",
      " [ 9 12 19]\n",
      " [ 3  4  5]]\n"
     ]
    }
   ],
   "source": [
    "A = np.array([[2,3,4],[1,2,5],[1,0,1]])\n",
    "B = np.array([[2,3,4],[1,2,5],[1,1,1]])\n",
    "print(np.dot(A,B))\n"
   ]
  },
  {
   "cell_type": "markdown",
   "id": "d0211ce4-d859-471e-ac15-a383e4011d3a",
   "metadata": {},
   "source": [
    "Exercise 33:\n",
    "Find the trace of a square NumPy matrix."
   ]
  },
  {
   "cell_type": "code",
   "execution_count": 290,
   "id": "d3ceebe0-2b1e-4d0b-b9e1-7ac8235679d2",
   "metadata": {},
   "outputs": [
    {
     "data": {
      "text/plain": [
       "5"
      ]
     },
     "execution_count": 290,
     "metadata": {},
     "output_type": "execute_result"
    }
   ],
   "source": [
    "A = np.array([[2,3,4],[1,2,5],[1,0,1]])\n",
    "np.trace(A)"
   ]
  },
  {
   "cell_type": "markdown",
   "id": "92d37606-f1a9-40c4-83a0-253a87d261c4",
   "metadata": {},
   "source": [
    "Exercise 34:\n",
    "Create a 2D array and swap two rows."
   ]
  },
  {
   "cell_type": "code",
   "execution_count": 299,
   "id": "fb67e765-3a3a-45ed-838f-398d765274dc",
   "metadata": {},
   "outputs": [
    {
     "name": "stdout",
     "output_type": "stream",
     "text": [
      "[[2 3 4]\n",
      " [1 2 5]\n",
      " [1 0 1]]\n",
      "=====================\n",
      "after swaping row1 and row2\n"
     ]
    },
    {
     "data": {
      "text/plain": [
       "array([[2, 3, 4],\n",
       "       [1, 0, 1],\n",
       "       [1, 2, 5]])"
      ]
     },
     "execution_count": 299,
     "metadata": {},
     "output_type": "execute_result"
    }
   ],
   "source": [
    "A = np.array([[2,3,4],[1,2,5],[1,0,1]])\n",
    "print(A)\n",
    "row1=1\n",
    "row1=2\n",
    "A[[1, 2]] = A[[2, 1]]\n",
    "print(\"=====================\")\n",
    "print(\"after swaping row1 and row2\")\n",
    "\n",
    "A\n"
   ]
  },
  {
   "cell_type": "markdown",
   "id": "cd807180-d860-4965-8549-6740fc71924e",
   "metadata": {},
   "source": [
    "Exercise 35:\n",
    "Create a 1D NumPy array and convert it into a column vector."
   ]
  },
  {
   "cell_type": "code",
   "execution_count": 308,
   "id": "bb866ca6-4f59-425f-ba5c-714a59d2d7f0",
   "metadata": {},
   "outputs": [
    {
     "name": "stdout",
     "output_type": "stream",
     "text": [
      "[[2]\n",
      " [3]\n",
      " [4]\n",
      " [5]]\n"
     ]
    }
   ],
   "source": [
    "array4 = np.array([2,3,4,5])\n",
    "array5 = array4.reshape(4,1)\n",
    "print(array5)"
   ]
  },
  {
   "cell_type": "markdown",
   "id": "0b337f7e-13ac-41f0-93dc-223e2579f472",
   "metadata": {},
   "source": [
    "Exercise 36:\n",
    "Find the determinant of a 3x3 matrix."
   ]
  },
  {
   "cell_type": "code",
   "execution_count": 321,
   "id": "e86de44d-6aa3-4332-aed9-475f88fb1b1b",
   "metadata": {},
   "outputs": [
    {
     "name": "stdout",
     "output_type": "stream",
     "text": [
      "the determinant of matrix A is  7.999999999999998\n"
     ]
    }
   ],
   "source": [
    "A = np.array([[2,3,4],[1,2,5],[1,0,1]])\n",
    "D = np.linalg.det(A)\n",
    "print(\"the determinant of matrix A is \", D)"
   ]
  },
  {
   "cell_type": "markdown",
   "id": "c1da8fbb-9aa4-4b9f-8341-ae43d6cb3e5d",
   "metadata": {},
   "source": [
    "Exercise 37:\n",
    "Find the eigenvalues and eigenvectors of a 2x2 matrix."
   ]
  },
  {
   "cell_type": "code",
   "execution_count": 326,
   "id": "f7fc0cbf-17ed-46e4-9064-5ebf6a65cf10",
   "metadata": {},
   "outputs": [
    {
     "name": "stdout",
     "output_type": "stream",
     "text": [
      "===============================================\n",
      "eigenvalues is  [1. 7.]\n",
      "===============================================\n",
      "eigenvectors is  [[-0.89442719 -0.70710678]\n",
      " [ 0.4472136  -0.70710678]]\n"
     ]
    }
   ],
   "source": [
    "A = np.array([[3,4],[2,5]])\n",
    "eigenvalues, eigenvectors = np.linalg.eig(A)\n",
    "print(\"===============================================\")\n",
    "print(\"eigenvalues is \", eigenvalues)\n",
    "\n",
    "print(\"===============================================\")\n",
    "print(\"eigenvectors is \", eigenvectors)\n"
   ]
  },
  {
   "cell_type": "markdown",
   "id": "4608254d-8732-4dce-8bd6-93dff56f4c51",
   "metadata": {},
   "source": [
    "Exercise 38:\n",
    "Solve a system of linear equations using NumPy."
   ]
  },
  {
   "cell_type": "code",
   "execution_count": 335,
   "id": "1ce57796-afbd-4d51-b243-957f54da7512",
   "metadata": {},
   "outputs": [
    {
     "name": "stdout",
     "output_type": "stream",
     "text": [
      "(x,y) is  [0.2 1.6]\n"
     ]
    }
   ],
   "source": [
    "# 1x+3y=5\n",
    "# 3x+4y=7\n",
    "\n",
    "A = np.array([[1,3],[3,4]])\n",
    "B = np.array([5,7])\n",
    "\n",
    "answer = np.linalg.solve(A, B)\n",
    "print(\"(x,y) is \", answer)"
   ]
  },
  {
   "cell_type": "markdown",
   "id": "995ddd7a-8af0-40fa-825b-0b5a1751a999",
   "metadata": {},
   "source": [
    "Exercise 39:\n",
    "Add Gaussian noise to a NumPy array."
   ]
  },
  {
   "cell_type": "code",
   "execution_count": 342,
   "id": "e97f19a9-1ceb-4e50-8a34-ff85f5af9b55",
   "metadata": {},
   "outputs": [
    {
     "data": {
      "text/plain": [
       "array([[-0.54286148,  0.41605005, -1.15618243],\n",
       "       [ 0.7811981 ,  1.49448454, -2.06998503]])"
      ]
     },
     "execution_count": 342,
     "metadata": {},
     "output_type": "execute_result"
    }
   ],
   "source": [
    "y = np.random.normal(size = (2, 3))\n",
    "y"
   ]
  },
  {
   "cell_type": "markdown",
   "id": "771d8da4-2b8e-4507-8fe8-f54daf6b8c90",
   "metadata": {},
   "source": [
    "Exercise 40:\n",
    "Create a 4x4 matrix and extract the diagonal elements."
   ]
  },
  {
   "cell_type": "code",
   "execution_count": 345,
   "id": "7ab1658d-31a7-4fd8-ac8f-7529fa044650",
   "metadata": {},
   "outputs": [
    {
     "data": {
      "text/plain": [
       "array([2, 2, 1])"
      ]
     },
     "execution_count": 345,
     "metadata": {},
     "output_type": "execute_result"
    }
   ],
   "source": [
    "A = np.array([[2,3,4],[1,2,5],[1,0,1]])\n",
    "np.diag(A)"
   ]
  },
  {
   "cell_type": "markdown",
   "id": "5a0bfb29-ad21-417e-a2ff-da4fe190d273",
   "metadata": {},
   "source": [
    "Exercise 41:\n",
    "Generate a NumPy array of 100 random values and clip the values to a range between 10 and 50."
   ]
  },
  {
   "cell_type": "code",
   "execution_count": 360,
   "id": "b9159772-cb24-494b-bd26-0b0ea8b27d77",
   "metadata": {},
   "outputs": [
    {
     "data": {
      "text/plain": [
       "array([34.9440292 , 50.        , 50.        , 50.        , 10.        ,\n",
       "       50.        , 39.25687885, 50.        , 50.        , 50.        ,\n",
       "       50.        , 36.4544626 , 50.        , 37.63891552, 36.4911836 ,\n",
       "       26.09044994, 49.59702954, 50.        , 27.73402713, 50.        ,\n",
       "       11.73802942, 15.98452869, 10.        , 50.        , 10.        ,\n",
       "       17.85799681, 50.        , 10.        , 50.        , 50.        ,\n",
       "       50.        , 50.        , 30.04036832, 50.        , 50.        ,\n",
       "       50.        , 26.72070319, 50.        , 37.19187485, 10.        ,\n",
       "       24.76850225, 31.82335092, 50.        , 45.85031671, 44.45872878,\n",
       "       33.61022664, 50.        , 50.        , 50.        , 37.6741267 ,\n",
       "       50.        , 50.        , 50.        , 24.48894794, 21.64572609,\n",
       "       16.60478245, 50.        , 29.40766624, 45.30942454, 49.3957834 ,\n",
       "       50.        , 50.        , 13.90727011, 42.69043602, 50.        ,\n",
       "       50.        , 10.24137585, 15.63833489, 30.41986916, 10.        ,\n",
       "       42.46630028, 10.76177051, 50.        , 24.65569398, 50.        ,\n",
       "       11.75256429, 50.        , 50.        , 39.17969386, 24.21785941,\n",
       "       25.03982129, 48.33935352, 10.        , 50.        , 40.83029083,\n",
       "       37.74065726, 50.        , 50.        , 50.        , 35.19362405,\n",
       "       50.        , 50.        , 35.74246516, 50.        , 28.85699577,\n",
       "       50.        , 11.24273172, 21.24343613, 18.30332921, 40.30260024])"
      ]
     },
     "execution_count": 360,
     "metadata": {},
     "output_type": "execute_result"
    }
   ],
   "source": [
    "array7 = np.random.rand(100) * 100\n",
    "np.clip(array7, 10, 50)"
   ]
  },
  {
   "cell_type": "markdown",
   "id": "d34618eb-de9c-486c-a692-0803f5c859be",
   "metadata": {},
   "source": [
    "Exercise 42:\n",
    "Create a 2D NumPy array and replace all negative values with zero."
   ]
  },
  {
   "cell_type": "code",
   "execution_count": 379,
   "id": "cb4b4e6d-f399-414c-98e0-8b82a0b4aa8b",
   "metadata": {},
   "outputs": [
    {
     "data": {
      "text/plain": [
       "array([[2, 0, 4],\n",
       "       [1, 2, 0],\n",
       "       [1, 8, 1]])"
      ]
     },
     "execution_count": 379,
     "metadata": {},
     "output_type": "execute_result"
    }
   ],
   "source": [
    "A = np.array([[2,-3,4],[1,2,-5],[1,8,1]])\n",
    "x = 0\n",
    "A[A < x] = x\n",
    "A"
   ]
  },
  {
   "cell_type": "markdown",
   "id": "e65ef8aa-d33f-45d4-b5a2-5f8cd612e580",
   "metadata": {},
   "source": [
    "Exercise 43:\n",
    "Find the inner and outer products of two NumPy arrays."
   ]
  },
  {
   "cell_type": "code",
   "execution_count": 388,
   "id": "fb2cec4d-75f4-4164-adfa-5da970579559",
   "metadata": {
    "scrolled": true
   },
   "outputs": [
    {
     "name": "stdout",
     "output_type": "stream",
     "text": [
      "inner product\n",
      "[[29 28  9]\n",
      " [28 30  8]\n",
      " [ 6  6  2]]\n",
      "=============================================\n",
      "outer product\n",
      "[[ 4  6  8  2  4 10  2  2  2]\n",
      " [ 6  9 12  3  6 15  3  3  3]\n",
      " [ 8 12 16  4  8 20  4  4  4]\n",
      " [ 2  3  4  1  2  5  1  1  1]\n",
      " [ 4  6  8  2  4 10  2  2  2]\n",
      " [10 15 20  5 10 25  5  5  5]\n",
      " [ 2  3  4  1  2  5  1  1  1]\n",
      " [ 0  0  0  0  0  0  0  0  0]\n",
      " [ 2  3  4  1  2  5  1  1  1]]\n"
     ]
    }
   ],
   "source": [
    "A = np.array([[2,3,4],[1,2,5],[1,0,1]])\n",
    "B = np.array([[2,3,4],[1,2,5],[1,1,1]])\n",
    "\n",
    "print(\"inner product\")\n",
    "\n",
    "print(np.inner(A,B))\n",
    "print(\"=============================================\")\n",
    "\n",
    "print(\"outer product\")\n",
    "print(np.outer(A, B))"
   ]
  },
  {
   "cell_type": "code",
   "execution_count": null,
   "id": "639187e9-88dc-4a96-9405-62a7a34697df",
   "metadata": {},
   "outputs": [],
   "source": []
  }
 ],
 "metadata": {
  "kernelspec": {
   "display_name": "Python 3 (ipykernel)",
   "language": "python",
   "name": "python3"
  },
  "language_info": {
   "codemirror_mode": {
    "name": "ipython",
    "version": 3
   },
   "file_extension": ".py",
   "mimetype": "text/x-python",
   "name": "python",
   "nbconvert_exporter": "python",
   "pygments_lexer": "ipython3",
   "version": "3.12.4"
  }
 },
 "nbformat": 4,
 "nbformat_minor": 5
}
