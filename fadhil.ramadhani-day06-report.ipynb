{
 "cells": [
  {
   "cell_type": "markdown",
   "id": "86a9e78b-4f2a-483c-a79d-1e9efde60c91",
   "metadata": {},
   "source": [
    "## RAMADHANI FADHIL MOSHI"
   ]
  },
  {
   "cell_type": "markdown",
   "id": "6514b44d-e738-4184-a3ed-647ef8833ffd",
   "metadata": {},
   "source": [
    "## 1 Summations and Products"
   ]
  },
  {
   "cell_type": "markdown",
   "id": "41cd989d-f15f-4262-a1bb-66ba12571361",
   "metadata": {},
   "source": [
    "##. 1 Compute the following expressions for a natural number n chosen by the user:\n",
    " n−1\n",
    " (i)\n",
    " (i +3).\n",
    " i=0\n",
    " i is odd\n",
    " n−1\n",
    " (ii)\n",
    " i=0\n",
    " i is even\n",
    " (i +3)"
   ]
  },
  {
   "cell_type": "code",
   "execution_count": 34,
   "id": "f23d2bdb-4cda-4977-86ad-109db14c9dac",
   "metadata": {},
   "outputs": [
    {
     "name": "stdin",
     "output_type": "stream",
     "text": [
      " Enter any natural number 5\n"
     ]
    },
    {
     "name": "stdout",
     "output_type": "stream",
     "text": [
      "The sum of odd natural number is: 10\n",
      "The product of even natural number is: 105\n"
     ]
    }
   ],
   "source": [
    "sum = 0\n",
    "product = 1\n",
    "n = int(input(\" Enter any natural number\"))\n",
    "for i in range(n):\n",
    "    if i % 2 == 1:\n",
    "      sum +=(i+3)\n",
    "\n",
    "    else:\n",
    "       product*=(i+3)\n",
    "print(\"The sum of odd natural number is:\", sum)\n",
    "print(\"The product of even natural number is:\", product)\n",
    "        "
   ]
  },
  {
   "cell_type": "markdown",
   "id": "83721ae1-d20c-4dc7-a872-53af24ee718e",
   "metadata": {},
   "source": [
    "Write a program that reads the number of the day of the week (from 0 to 6). If it is a\n",
    " working day, then the program will write the name of the corresponding day. Otherwise,\n",
    " it will write the word \"Weekend\"."
   ]
  },
  {
   "cell_type": "code",
   "execution_count": 42,
   "id": "7fd314eb-ecfa-4953-b67d-00396d34b006",
   "metadata": {},
   "outputs": [
    {
     "name": "stdin",
     "output_type": "stream",
     "text": [
      "Enter a number of day -5\n"
     ]
    },
    {
     "name": "stdout",
     "output_type": "stream",
     "text": [
      "No day on the list\n"
     ]
    }
   ],
   "source": [
    "number_day = int(input(\"Enter a number of day\"))\n",
    "if number_day == 0:\n",
    "    print(\"monday\")\n",
    "elif number_day == 1:\n",
    "    print(\"tuesday\")\n",
    "elif number_day == 2:\n",
    "    print(\"Wednesday\")\n",
    "elif number_day == 3:\n",
    "    print(\"Thursday\")\n",
    "elif number_day == 4:\n",
    "    print(\"Friday\")\n",
    "elif number_day == 5:\n",
    "    print(\"Weekend\")\n",
    "elif number_day == 6:\n",
    "    print(\"Weekend\")\n",
    "else:\n",
    "    print(\"No day on the list\")\n",
    "    \n"
   ]
  },
  {
   "cell_type": "markdown",
   "id": "df491b1e-1aac-4ac0-9633-f8d2682ec966",
   "metadata": {},
   "source": [
    "3 Make a program that, given a month number (from 0 to 11), indicates how many days it\n",
    " has (28, 30 or 31), ignoring the leap years"
   ]
  },
  {
   "cell_type": "code",
   "execution_count": 38,
   "id": "e73463b5-e5d9-4821-bab5-74101a6f61fe",
   "metadata": {},
   "outputs": [
    {
     "name": "stdin",
     "output_type": "stream",
     "text": [
      "Enter a number betwwen 0 and 11 4\n"
     ]
    },
    {
     "name": "stdout",
     "output_type": "stream",
     "text": [
      "May--31 days\n"
     ]
    }
   ],
   "source": [
    "month_number = int(input(\"Enter a number betwwen 0 and 11\"))\n",
    "if month_number == 0:\n",
    "    print(\"january--31 days \")\n",
    "elif month_number == 1:\n",
    "    print(\"february--28 days\")\n",
    "elif month_number == 2:\n",
    "    print(\"March--28 days\")\n",
    "elif month_number == 3:\n",
    "    print(\"April--30 days\")\n",
    "elif month_number == 4:\n",
    "    print(\"May--31 days\")\n",
    "elif month_number == 5:\n",
    "    print(\"june--30 days\")\n",
    "elif month_number == 6:\n",
    "    print(\"July--31 days\")\n",
    "elif month_number == 7:\n",
    "    print(\"August--31 days\")\n",
    "elif month_number == 8:\n",
    "    print(\"september--28 days\")\n",
    "elif month_number == 9:\n",
    "    print(\"October--28 days\")\n",
    "elif month_number == 10:\n",
    "    print(\"November--28 days\")\n",
    "elif month_number == 11:\n",
    "    print(\"December--28 days\")\n",
    "else:\n",
    "    print(\"Enter a corrrect number\")\n"
   ]
  },
  {
   "cell_type": "markdown",
   "id": "f3a7010c-33ee-4d5e-970c-41a200cfcb1f",
   "metadata": {},
   "source": [
    " 4. Write two versions of python code that displays your name 3 times. One version with a\n",
    " \"for loop\" and another version with a \"while loop\"."
   ]
  },
  {
   "cell_type": "code",
   "execution_count": null,
   "id": "5539d012-4d34-40d6-8c51-3f9db496b8e6",
   "metadata": {},
   "outputs": [],
   "source": [
    "# for loop\n",
    "n = 3\n",
    "for i in range(n):\n",
    "    print(\"Ramaphossa\")"
   ]
  },
  {
   "cell_type": "code",
   "execution_count": 72,
   "id": "06faeceb-2431-450a-9ff4-b708050a032b",
   "metadata": {},
   "outputs": [
    {
     "name": "stdout",
     "output_type": "stream",
     "text": [
      "Ramaphossa\n",
      "Ramaphossa\n",
      "Ramaphossa\n"
     ]
    }
   ],
   "source": [
    "x = 1\n",
    "while x <= 3:\n",
    "    print(\"Ramaphossa\")\n",
    "    x = x+1"
   ]
  },
  {
   "cell_type": "markdown",
   "id": "46707a16-cf90-4da7-9270-f1be349daea3",
   "metadata": {},
   "source": [
    "5. Given two numbers a0 and a1, the Fibonacci sequence they generate is constructed from\n",
    " the recursion formula an+1 = an + an−1. Calculate the first 15 terms of a Fibonacci\n",
    " sequence, asking the user the initial values"
   ]
  },
  {
   "cell_type": "code",
   "execution_count": 76,
   "id": "0a99f011-73ff-4292-b0cb-9219ad9dda32",
   "metadata": {},
   "outputs": [
    {
     "name": "stdin",
     "output_type": "stream",
     "text": [
      "Enter a0 0\n",
      "Enter a1 1\n"
     ]
    },
    {
     "name": "stdout",
     "output_type": "stream",
     "text": [
      "1\n",
      "2\n",
      "3\n",
      "5\n",
      "8\n",
      "13\n",
      "21\n",
      "34\n",
      "55\n",
      "89\n",
      "144\n",
      "233\n",
      "377\n",
      "610\n"
     ]
    }
   ],
   "source": [
    "a0 = int(input(\"Enter a0\"))\n",
    "a1 = int(input(\"Enter a1\"))\n",
    "tenp=0\n",
    "for i in range(14):\n",
    "    tenp=a0 + a1\n",
    "    print(tenp)\n",
    "    a0 = a1\n",
    "    a1 = tenp\n",
    "               "
   ]
  },
  {
   "cell_type": "markdown",
   "id": "09822b7c-f1ca-42b0-bb89-30736b092cd8",
   "metadata": {},
   "source": [
    " 6. Compute the first 30 terms of the sequence defined by 2xn+2 −xn+1 −6xn = 0 sequence,\n",
    " given any two initial values x0 and x1"
   ]
  },
  {
   "cell_type": "code",
   "execution_count": 89,
   "id": "12b09eef-f6a7-4c4c-969c-b2d0b41c4215",
   "metadata": {},
   "outputs": [
    {
     "name": "stdin",
     "output_type": "stream",
     "text": [
      "intial value x0 0\n",
      "intial value x1 1\n"
     ]
    },
    {
     "name": "stdout",
     "output_type": "stream",
     "text": [
      "0.5\n",
      "3.25\n",
      "3.125\n",
      "11.3125\n",
      "15.03125\n",
      "41.453125\n",
      "65.8203125\n",
      "157.26953125\n",
      "276.095703125\n",
      "609.8564453125\n",
      "1133.21533203125\n",
      "2396.177001953125\n",
      "4597.7344970703125\n",
      "9487.398254394531\n",
      "18536.902618408203\n",
      "37730.646072387695\n",
      "74476.03089141846\n",
      "150429.9536628723\n",
      "298643.0695056915\n",
      "600611.3957414627\n",
      "1196234.906387806\n",
      "2399951.640418291\n",
      "4788680.539372563\n",
      "9594195.190941155\n",
      "19163139.213588268\n",
      "38364155.1796176\n",
      "76671495.2305736\n",
      "153428213.15413958\n",
      "306728592.2687906\n",
      "613648935.596814\n"
     ]
    }
   ],
   "source": [
    "x0 = int(input(\"intial value x0\"))\n",
    "x1 = int(input(\"intial value x1\"))\n",
    "for i in range(29):\n",
    "    temp=0\n",
    "    temp= (1/2)*x1 + 3*x0\n",
    "    print(temp)\n",
    "    x0 = x1\n",
    "    x1 = temp"
   ]
  },
  {
   "cell_type": "markdown",
   "id": "45adda1e-aa24-425f-8033-360d0e0434af",
   "metadata": {},
   "source": [
    " a) Write python code to determine whether or not a year is a leap year. Be sure you\n",
    " know what a leap year is."
   ]
  },
  {
   "cell_type": "code",
   "execution_count": 100,
   "id": "8bfb0595-f691-4078-af62-be6875a90cc5",
   "metadata": {},
   "outputs": [
    {
     "name": "stdin",
     "output_type": "stream",
     "text": [
      "Enter a year 2000\n"
     ]
    },
    {
     "name": "stdout",
     "output_type": "stream",
     "text": [
      "It's Leap year\n"
     ]
    }
   ],
   "source": [
    "year = int(input(\"Enter a year\"))\n",
    "if (year % 4 == 0 and year % 100 != 0) or (year % 400 == 0):\n",
    "    print(\"It's Leap year\")\n",
    "else:\n",
    "    print(\"It's not leap year\")     "
   ]
  },
  {
   "cell_type": "markdown",
   "id": "5f6c889e-d6fe-4187-99ba-62443f9ab304",
   "metadata": {},
   "source": [
    " b) Write the code using only logical operators, i.e. no conditional branching."
   ]
  },
  {
   "cell_type": "code",
   "execution_count": 108,
   "id": "981beebf-f9d0-441b-ab0c-c99fc06efb75",
   "metadata": {},
   "outputs": [
    {
     "name": "stdin",
     "output_type": "stream",
     "text": [
      "Enter a year 2024\n"
     ]
    },
    {
     "name": "stdout",
     "output_type": "stream",
     "text": [
      "True\n"
     ]
    }
   ],
   "source": [
    "year = int(input(\"Enter a year\"))\n",
    "print((year % 4 == 0 and year % 100 != 0) or (year % 400 == 0))"
   ]
  },
  {
   "cell_type": "markdown",
   "id": "0f98d463-f092-47ed-a20b-c0dd6b0b03da",
   "metadata": {},
   "source": [
    " a) Write python code that computes the sum of the square of the first n natural numbers.\n",
    " One version with a \"for loop\" and another version with a \"while loop\"."
   ]
  },
  {
   "cell_type": "code",
   "execution_count": 137,
   "id": "4c329449-feb2-42bd-96ee-cf6bc7758e38",
   "metadata": {},
   "outputs": [
    {
     "name": "stdin",
     "output_type": "stream",
     "text": [
      "Enter a natural number 3\n"
     ]
    },
    {
     "name": "stdout",
     "output_type": "stream",
     "text": [
      "14\n"
     ]
    }
   ],
   "source": [
    "#for loop\n",
    "n = int(input(\"Enter a natural number\"))\n",
    "sum = 0\n",
    "for i in range(n+1):\n",
    "    sum = sum+i**2 \n",
    "print(sum)\n",
    "        "
   ]
  },
  {
   "cell_type": "code",
   "execution_count": 147,
   "id": "b24f4a9a-d330-43dd-ad84-515ad0efed10",
   "metadata": {},
   "outputs": [
    {
     "name": "stdin",
     "output_type": "stream",
     "text": [
      "Enter a natural number 3\n"
     ]
    },
    {
     "name": "stdout",
     "output_type": "stream",
     "text": [
      "14\n"
     ]
    }
   ],
   "source": [
    "#while\n",
    "n = int(input(\"Enter a natural number\"))\n",
    "sum = 0\n",
    "i = 1\n",
    "while i <= n :\n",
    "    sum = sum+i**2 \n",
    "    i = i + 1\n",
    "print(sum)"
   ]
  },
  {
   "cell_type": "markdown",
   "id": "4ee8c863-e011-4d58-a89d-35f54173656d",
   "metadata": {},
   "source": [
    " b) Write python code that prints, for a natural number M, the smallest natural number\n",
    " n such that 12+22+···+n2 ≥ M. One version with a \"for loop\" and another version\n",
    " with a \"while loop\"."
   ]
  },
  {
   "cell_type": "code",
   "execution_count": 155,
   "id": "a542b6dd-67bb-4f24-a88b-8ea79f5e7e90",
   "metadata": {},
   "outputs": [
    {
     "name": "stdin",
     "output_type": "stream",
     "text": [
      "Enter natural number M 7\n"
     ]
    },
    {
     "name": "stdout",
     "output_type": "stream",
     "text": [
      "The n is 3\n"
     ]
    }
   ],
   "source": [
    "# for loop\n",
    "M = int(input(\"Enter natural number M\"))\n",
    "summition = 0\n",
    "\n",
    "for i in range(M+1):\n",
    "    summition = summition+i**2\n",
    "    if(summition>=M):\n",
    "        break\n",
    "print(\"The n is\", i)\n"
   ]
  },
  {
   "cell_type": "code",
   "execution_count": 159,
   "id": "db33f863-a117-4307-bd56-b30d0d07b6ed",
   "metadata": {},
   "outputs": [
    {
     "name": "stdin",
     "output_type": "stream",
     "text": [
      "Enter natural number M 3\n"
     ]
    },
    {
     "name": "stdout",
     "output_type": "stream",
     "text": [
      "The n is 3\n"
     ]
    }
   ],
   "source": [
    "# while loop\n",
    "M = int(input(\"Enter natural number M\"))\n",
    "summition = 0\n",
    "while summition <= M:\n",
    "    summition = summition+i**2\n",
    "    summition = summition+1\n",
    "    if(summition>=M):\n",
    "        break\n",
    "print(\"The n is\", i)"
   ]
  },
  {
   "cell_type": "markdown",
   "id": "a0fb67be-19d8-4ad5-96fe-2d8be7c66889",
   "metadata": {},
   "source": [
    "9 a) Write python code that prints all the divisors of a given natural number."
   ]
  },
  {
   "cell_type": "code",
   "execution_count": 199,
   "id": "3672056f-749f-4342-8a53-d745efb011ad",
   "metadata": {},
   "outputs": [
    {
     "name": "stdin",
     "output_type": "stream",
     "text": [
      "Enter the natural number 16\n"
     ]
    },
    {
     "name": "stdout",
     "output_type": "stream",
     "text": [
      "[1]\n",
      "[1, 2]\n",
      "[1, 2, 4]\n",
      "[1, 2, 4, 8]\n"
     ]
    }
   ],
   "source": [
    "natural_number = int(input(\"Enter the natural number\"))\n",
    "x = []\n",
    "for i in range(1, natural_number):\n",
    "    if natural_number % i == 0:\n",
    "        x.append(i)\n",
    "        print(x)\n",
    "               "
   ]
  },
  {
   "cell_type": "markdown",
   "id": "5841c43f-ce60-4c2d-ba87-2f763ac884e4",
   "metadata": {},
   "source": [
    "b) Read an integer number input by the user and calculate its prime factors. This will\n",
    " just be some of its divisors."
   ]
  },
  {
   "cell_type": "code",
   "execution_count": 209,
   "id": "551f875e-fc45-48ec-bbe1-6dc89d63c398",
   "metadata": {},
   "outputs": [
    {
     "name": "stdin",
     "output_type": "stream",
     "text": [
      "Enter the natural number 15\n"
     ]
    },
    {
     "name": "stdout",
     "output_type": "stream",
     "text": [
      "Prime factors of the number are: [3, 5]\n"
     ]
    }
   ],
   "source": [
    "int_number = int(input(\"Enter the natural number\"))\n",
    "if int_number > 1:\n",
    "    divisor = 2\n",
    "    factors = []\n",
    "    \n",
    "    while int_number > 1:\n",
    "        while int_number % divisor == 0:\n",
    "            factors.append(divisor)\n",
    "            int_number //= divisor\n",
    "        divisor += 1\n",
    "\n",
    "    print(factors)\n",
    "else:\n",
    "     print(\"Please enter an integer greater than 1.\")"
   ]
  },
  {
   "cell_type": "markdown",
   "id": "488f8d7c-4f1f-4b43-afda-c325907a4a3b",
   "metadata": {},
   "source": [
    " 10. Read an integer number between n 0 and 9 and print its multiplication table up to N\n",
    " where N is another another natural number read by the program"
   ]
  },
  {
   "cell_type": "code",
   "execution_count": 228,
   "id": "588c763e-1572-4da7-9b3b-710439301640",
   "metadata": {},
   "outputs": [
    {
     "name": "stdin",
     "output_type": "stream",
     "text": [
      "Enter integer number 4\n"
     ]
    },
    {
     "name": "stdout",
     "output_type": "stream",
     "text": [
      "0 x 4 = 0\n",
      "1 x 4 = 4\n",
      "2 x 4 = 8\n",
      "3 x 4 = 12\n",
      "4 x 4 = 16\n"
     ]
    }
   ],
   "source": [
    "int_num = range(0, 9)\n",
    "int_NN = int(input(\"Enter integer number\"))\n",
    "for int_num in range(int_NN +1):\n",
    "    product = int_NN*int_num\n",
    "    print(f\"{int_num} x {int_NN} = {product}\")"
   ]
  },
  {
   "cell_type": "markdown",
   "id": "1a8c9994-8c8b-406d-b243-ad83e7c5ffe8",
   "metadata": {},
   "source": [
    " 11. Write a program that prints all the numbers between 0 and 40 that are multiples of 3, 7\n",
    " or 11."
   ]
  },
  {
   "cell_type": "code",
   "execution_count": 247,
   "id": "06925962-4782-4cff-ad08-18e4141e38a2",
   "metadata": {},
   "outputs": [
    {
     "name": "stdout",
     "output_type": "stream",
     "text": [
      "0\n",
      "3\n",
      "6\n",
      "7\n",
      "9\n",
      "11\n",
      "12\n",
      "14\n",
      "15\n",
      "18\n",
      "21\n",
      "22\n",
      "24\n",
      "27\n",
      "28\n",
      "30\n",
      "33\n",
      "35\n",
      "36\n",
      "39\n"
     ]
    }
   ],
   "source": [
    "x = (40)\n",
    "for i in range(0, x + 1):\n",
    "    if i % 3 == 0 or i % 7 == 0 or i % 11 == 0:\n",
    "        print(i)"
   ]
  },
  {
   "cell_type": "markdown",
   "id": "cb3516bb-2574-4e28-982c-082cffb58684",
   "metadata": {},
   "source": [
    " 12. Write python code that prints the floor of a float x. Recall that the floor of a float x is the\n",
    " largest integer value less than or equal to x, i.e. if E[x] is the floor of x, then it satisfies,\n",
    " E[x] = 1+E[x−1]\n",
    " PS: On Friday, you will be asked to write a recursive version of the above program"
   ]
  },
  {
   "cell_type": "code",
   "execution_count": 256,
   "id": "2ecdc95d-c9e3-4cd4-8199-a4a278f01f52",
   "metadata": {},
   "outputs": [
    {
     "name": "stdin",
     "output_type": "stream",
     "text": [
      "Enter a float value:  3.5\n"
     ]
    },
    {
     "name": "stdout",
     "output_type": "stream",
     "text": [
      "3\n"
     ]
    }
   ],
   "source": [
    "x = float(input(\"Enter a float value: \"))\n",
    "floor_value = int(x)\n",
    "while floor_value > x:\n",
    "    floor_value -= 1\n",
    "print(floor_value)"
   ]
  },
  {
   "cell_type": "markdown",
   "id": "0c195499-d492-4a0e-b4e7-d2d60a72c7d8",
   "metadata": {},
   "source": [
    "13. Given a point in the plane by its Cartesian coordinates, determine in which quadrant it is\n",
    " (1st, 2nd, 3rd, 4th), if it lies on an axis, or if it is the origin. Do this for several points in\n",
    " the same execution of the program until the user quits."
   ]
  },
  {
   "cell_type": "code",
   "execution_count": 262,
   "id": "ab61a8bc-75ce-4c1d-9487-d9f167582448",
   "metadata": {},
   "outputs": [
    {
     "name": "stdin",
     "output_type": "stream",
     "text": [
      "Enter the x-coordinate (or 'q' to quit):  1\n",
      "Enter the y-coordinate (or 'q' to quit):  1\n"
     ]
    },
    {
     "name": "stdout",
     "output_type": "stream",
     "text": [
      "The point lies in the 1st quadrant.\n"
     ]
    },
    {
     "name": "stdin",
     "output_type": "stream",
     "text": [
      "Do you want to check another point? (y/n):  2\n"
     ]
    }
   ],
   "source": [
    "while True:\n",
    "    x = float(input(\"Enter the x-coordinate (or 'q' to quit): \"))\n",
    "    y = float(input(\"Enter the y-coordinate (or 'q' to quit): \"))\n",
    "\n",
    "    if x == 0 and y == 0:\n",
    "        print(\"The point is at the origin.\")\n",
    "    elif y == 0:\n",
    "        print(\"The point lies on the x-axis.\")  \n",
    "    elif x == 0:\n",
    "        print(\"The point lies on the y-axis.\")\n",
    "    elif x > 0 and y > 0:\n",
    "        print(\"The point lies in the 1st quadrant.\")\n",
    "    elif x < 0 and y > 0:\n",
    "        print(\"The point lies in the 2nd quadrant.\")\n",
    "    elif x < 0 and y < 0:\n",
    "        print(\"The point lies in the 3rd quadrant.\")\n",
    "    elif x > 0 and y < 0:\n",
    "        print(\"The point lies in the 4th quadrant.\")\n",
    "\n",
    "    cont = input(\"Do you want to check another point? (y/n): \").lower()\n",
    "    if cont != 'y':\n",
    "        break\n"
   ]
  },
  {
   "cell_type": "markdown",
   "id": "7236dfd3-c1ec-4fa5-a76c-be84c0596b3a",
   "metadata": {},
   "source": [
    "14. Ask for an integer number between 0 and 9, denoted x. Once the user has entered a correct\n",
    " number (that is one in the range [0..10)) the program asks for a second integer number\n",
    " between 0 and 255, denoted max. The program continues asking for the number until it\n",
    " is correct (that it is in the range [0..256)). When this is done, show all multiples of x that\n",
    " are between 0 and max. Then, ask the user whether he/she wants to continue; if in the\n",
    " affirmative, ask for another couple of numbers, otherwise finish"
   ]
  },
  {
   "cell_type": "code",
   "execution_count": null,
   "id": "327b0af2-7fe5-4355-af96-aab11acefe3c",
   "metadata": {},
   "outputs": [],
   "source": [
    "x = int(input(\"Enter a number between 0 and 9: \"))\n",
    "if 0 <= x < 10:\n",
    "\n",
    "    print(\"Please enter a number between 0 and 9.\")\n",
    "while True:\n",
    "         max_val = int(input(\"Enter an integer number between 0 and 255: \"))\n",
    "if 0 <= max_val < 256:\n",
    "\n",
    "else:\n",
    "    print(\"Please enter a number between 0 and 255.\")\n",
    "if x == 0:\n",
    "        print(\"All multiples of 0 are 0.\")\n",
    "else:\n",
    "     multiples = []\n",
    "        for i in range(0, max_val + 1):\n",
    "            if i % x == 0:\n",
    "                multiples.append(i)\n",
    "        print(f\"Multiples of {x} between 0 and {max_val} are: {multiples}\")\n",
    "\n",
    "cont = input(\"Do you want to continue? (yes/no): \").strip().lower()\n",
    "if cont != 'yes':\n",
    "print(\"End\")"
   ]
  }
 ],
 "metadata": {
  "kernelspec": {
   "display_name": "Python 3 (ipykernel)",
   "language": "python",
   "name": "python3"
  },
  "language_info": {
   "codemirror_mode": {
    "name": "ipython",
    "version": 3
   },
   "file_extension": ".py",
   "mimetype": "text/x-python",
   "name": "python",
   "nbconvert_exporter": "python",
   "pygments_lexer": "ipython3",
   "version": "3.12.4"
  }
 },
 "nbformat": 4,
 "nbformat_minor": 5
}
